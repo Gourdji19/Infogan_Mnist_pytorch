{
  "nbformat": 4,
  "nbformat_minor": 0,
  "metadata": {
    "accelerator": "GPU",
    "colab": {
      "name": "P100.ipynb",
      "provenance": [],
      "collapsed_sections": [],
      "machine_shape": "hm",
      "include_colab_link": true
    },
    "kernelspec": {
      "display_name": "Python 3",
      "name": "python3"
    },
    "widgets": {
      "application/vnd.jupyter.widget-state+json": {
        "1c0562b46dad4df1b9594ca4c3b886be": {
          "model_module": "@jupyter-widgets/controls",
          "model_name": "HBoxModel",
          "state": {
            "_view_name": "HBoxView",
            "_dom_classes": [],
            "_model_name": "HBoxModel",
            "_view_module": "@jupyter-widgets/controls",
            "_model_module_version": "1.5.0",
            "_view_count": null,
            "_view_module_version": "1.5.0",
            "box_style": "",
            "layout": "IPY_MODEL_532a1cf1f5814a2ca1466748da98d810",
            "_model_module": "@jupyter-widgets/controls",
            "children": [
              "IPY_MODEL_e9c02781bc604ecdafd868a7db095bc9",
              "IPY_MODEL_2d9fc5a4d7db411f878a0f9735f9c5b0"
            ]
          }
        },
        "532a1cf1f5814a2ca1466748da98d810": {
          "model_module": "@jupyter-widgets/base",
          "model_name": "LayoutModel",
          "state": {
            "_view_name": "LayoutView",
            "grid_template_rows": null,
            "right": null,
            "justify_content": null,
            "_view_module": "@jupyter-widgets/base",
            "overflow": null,
            "_model_module_version": "1.2.0",
            "_view_count": null,
            "flex_flow": null,
            "width": null,
            "min_width": null,
            "border": null,
            "align_items": null,
            "bottom": null,
            "_model_module": "@jupyter-widgets/base",
            "top": null,
            "grid_column": null,
            "overflow_y": null,
            "overflow_x": null,
            "grid_auto_flow": null,
            "grid_area": null,
            "grid_template_columns": null,
            "flex": null,
            "_model_name": "LayoutModel",
            "justify_items": null,
            "grid_row": null,
            "max_height": null,
            "align_content": null,
            "visibility": null,
            "align_self": null,
            "height": null,
            "min_height": null,
            "padding": null,
            "grid_auto_rows": null,
            "grid_gap": null,
            "max_width": null,
            "order": null,
            "_view_module_version": "1.2.0",
            "grid_template_areas": null,
            "object_position": null,
            "object_fit": null,
            "grid_auto_columns": null,
            "margin": null,
            "display": null,
            "left": null
          }
        },
        "e9c02781bc604ecdafd868a7db095bc9": {
          "model_module": "@jupyter-widgets/controls",
          "model_name": "FloatProgressModel",
          "state": {
            "_view_name": "ProgressView",
            "style": "IPY_MODEL_0e804bb803a4478a85f6cad2681ccee8",
            "_dom_classes": [],
            "description": "",
            "_model_name": "FloatProgressModel",
            "bar_style": "success",
            "max": 9912422,
            "_view_module": "@jupyter-widgets/controls",
            "_model_module_version": "1.5.0",
            "value": 9912422,
            "_view_count": null,
            "_view_module_version": "1.5.0",
            "orientation": "horizontal",
            "min": 0,
            "description_tooltip": null,
            "_model_module": "@jupyter-widgets/controls",
            "layout": "IPY_MODEL_340487c5afa74800bb85f9840c3922ca"
          }
        },
        "2d9fc5a4d7db411f878a0f9735f9c5b0": {
          "model_module": "@jupyter-widgets/controls",
          "model_name": "HTMLModel",
          "state": {
            "_view_name": "HTMLView",
            "style": "IPY_MODEL_1183b9284183413b813c9a79752f7066",
            "_dom_classes": [],
            "description": "",
            "_model_name": "HTMLModel",
            "placeholder": "​",
            "_view_module": "@jupyter-widgets/controls",
            "_model_module_version": "1.5.0",
            "value": " 9913344/? [00:00&lt;00:00, 15374396.38it/s]",
            "_view_count": null,
            "_view_module_version": "1.5.0",
            "description_tooltip": null,
            "_model_module": "@jupyter-widgets/controls",
            "layout": "IPY_MODEL_ad7f49892ea74b47ae9d56482bf19c19"
          }
        },
        "0e804bb803a4478a85f6cad2681ccee8": {
          "model_module": "@jupyter-widgets/controls",
          "model_name": "ProgressStyleModel",
          "state": {
            "_view_name": "StyleView",
            "_model_name": "ProgressStyleModel",
            "description_width": "initial",
            "_view_module": "@jupyter-widgets/base",
            "_model_module_version": "1.5.0",
            "_view_count": null,
            "_view_module_version": "1.2.0",
            "bar_color": null,
            "_model_module": "@jupyter-widgets/controls"
          }
        },
        "340487c5afa74800bb85f9840c3922ca": {
          "model_module": "@jupyter-widgets/base",
          "model_name": "LayoutModel",
          "state": {
            "_view_name": "LayoutView",
            "grid_template_rows": null,
            "right": null,
            "justify_content": null,
            "_view_module": "@jupyter-widgets/base",
            "overflow": null,
            "_model_module_version": "1.2.0",
            "_view_count": null,
            "flex_flow": null,
            "width": null,
            "min_width": null,
            "border": null,
            "align_items": null,
            "bottom": null,
            "_model_module": "@jupyter-widgets/base",
            "top": null,
            "grid_column": null,
            "overflow_y": null,
            "overflow_x": null,
            "grid_auto_flow": null,
            "grid_area": null,
            "grid_template_columns": null,
            "flex": null,
            "_model_name": "LayoutModel",
            "justify_items": null,
            "grid_row": null,
            "max_height": null,
            "align_content": null,
            "visibility": null,
            "align_self": null,
            "height": null,
            "min_height": null,
            "padding": null,
            "grid_auto_rows": null,
            "grid_gap": null,
            "max_width": null,
            "order": null,
            "_view_module_version": "1.2.0",
            "grid_template_areas": null,
            "object_position": null,
            "object_fit": null,
            "grid_auto_columns": null,
            "margin": null,
            "display": null,
            "left": null
          }
        },
        "1183b9284183413b813c9a79752f7066": {
          "model_module": "@jupyter-widgets/controls",
          "model_name": "DescriptionStyleModel",
          "state": {
            "_view_name": "StyleView",
            "_model_name": "DescriptionStyleModel",
            "description_width": "",
            "_view_module": "@jupyter-widgets/base",
            "_model_module_version": "1.5.0",
            "_view_count": null,
            "_view_module_version": "1.2.0",
            "_model_module": "@jupyter-widgets/controls"
          }
        },
        "ad7f49892ea74b47ae9d56482bf19c19": {
          "model_module": "@jupyter-widgets/base",
          "model_name": "LayoutModel",
          "state": {
            "_view_name": "LayoutView",
            "grid_template_rows": null,
            "right": null,
            "justify_content": null,
            "_view_module": "@jupyter-widgets/base",
            "overflow": null,
            "_model_module_version": "1.2.0",
            "_view_count": null,
            "flex_flow": null,
            "width": null,
            "min_width": null,
            "border": null,
            "align_items": null,
            "bottom": null,
            "_model_module": "@jupyter-widgets/base",
            "top": null,
            "grid_column": null,
            "overflow_y": null,
            "overflow_x": null,
            "grid_auto_flow": null,
            "grid_area": null,
            "grid_template_columns": null,
            "flex": null,
            "_model_name": "LayoutModel",
            "justify_items": null,
            "grid_row": null,
            "max_height": null,
            "align_content": null,
            "visibility": null,
            "align_self": null,
            "height": null,
            "min_height": null,
            "padding": null,
            "grid_auto_rows": null,
            "grid_gap": null,
            "max_width": null,
            "order": null,
            "_view_module_version": "1.2.0",
            "grid_template_areas": null,
            "object_position": null,
            "object_fit": null,
            "grid_auto_columns": null,
            "margin": null,
            "display": null,
            "left": null
          }
        },
        "ed6b890ede8348699bfe6902617c3bc2": {
          "model_module": "@jupyter-widgets/controls",
          "model_name": "HBoxModel",
          "state": {
            "_view_name": "HBoxView",
            "_dom_classes": [],
            "_model_name": "HBoxModel",
            "_view_module": "@jupyter-widgets/controls",
            "_model_module_version": "1.5.0",
            "_view_count": null,
            "_view_module_version": "1.5.0",
            "box_style": "",
            "layout": "IPY_MODEL_0d96a716d31e4316a638e6ec599e32c8",
            "_model_module": "@jupyter-widgets/controls",
            "children": [
              "IPY_MODEL_0207343b20d840df9f7f7fe88e0dee14",
              "IPY_MODEL_8e9fcbc2560445cc9cccc0efa5a5f670"
            ]
          }
        },
        "0d96a716d31e4316a638e6ec599e32c8": {
          "model_module": "@jupyter-widgets/base",
          "model_name": "LayoutModel",
          "state": {
            "_view_name": "LayoutView",
            "grid_template_rows": null,
            "right": null,
            "justify_content": null,
            "_view_module": "@jupyter-widgets/base",
            "overflow": null,
            "_model_module_version": "1.2.0",
            "_view_count": null,
            "flex_flow": null,
            "width": null,
            "min_width": null,
            "border": null,
            "align_items": null,
            "bottom": null,
            "_model_module": "@jupyter-widgets/base",
            "top": null,
            "grid_column": null,
            "overflow_y": null,
            "overflow_x": null,
            "grid_auto_flow": null,
            "grid_area": null,
            "grid_template_columns": null,
            "flex": null,
            "_model_name": "LayoutModel",
            "justify_items": null,
            "grid_row": null,
            "max_height": null,
            "align_content": null,
            "visibility": null,
            "align_self": null,
            "height": null,
            "min_height": null,
            "padding": null,
            "grid_auto_rows": null,
            "grid_gap": null,
            "max_width": null,
            "order": null,
            "_view_module_version": "1.2.0",
            "grid_template_areas": null,
            "object_position": null,
            "object_fit": null,
            "grid_auto_columns": null,
            "margin": null,
            "display": null,
            "left": null
          }
        },
        "0207343b20d840df9f7f7fe88e0dee14": {
          "model_module": "@jupyter-widgets/controls",
          "model_name": "FloatProgressModel",
          "state": {
            "_view_name": "ProgressView",
            "style": "IPY_MODEL_6646433bff32445896484c7a8589b8cb",
            "_dom_classes": [],
            "description": "",
            "_model_name": "FloatProgressModel",
            "bar_style": "success",
            "max": 28881,
            "_view_module": "@jupyter-widgets/controls",
            "_model_module_version": "1.5.0",
            "value": 28881,
            "_view_count": null,
            "_view_module_version": "1.5.0",
            "orientation": "horizontal",
            "min": 0,
            "description_tooltip": null,
            "_model_module": "@jupyter-widgets/controls",
            "layout": "IPY_MODEL_746ab776e6644fe389f6578a1a3859da"
          }
        },
        "8e9fcbc2560445cc9cccc0efa5a5f670": {
          "model_module": "@jupyter-widgets/controls",
          "model_name": "HTMLModel",
          "state": {
            "_view_name": "HTMLView",
            "style": "IPY_MODEL_1c451602b61a42378bbd7407bf15beeb",
            "_dom_classes": [],
            "description": "",
            "_model_name": "HTMLModel",
            "placeholder": "​",
            "_view_module": "@jupyter-widgets/controls",
            "_model_module_version": "1.5.0",
            "value": " 29696/? [00:49&lt;00:00, 598.54it/s]",
            "_view_count": null,
            "_view_module_version": "1.5.0",
            "description_tooltip": null,
            "_model_module": "@jupyter-widgets/controls",
            "layout": "IPY_MODEL_cc0439d765df42c4b89ea853e03471ef"
          }
        },
        "6646433bff32445896484c7a8589b8cb": {
          "model_module": "@jupyter-widgets/controls",
          "model_name": "ProgressStyleModel",
          "state": {
            "_view_name": "StyleView",
            "_model_name": "ProgressStyleModel",
            "description_width": "initial",
            "_view_module": "@jupyter-widgets/base",
            "_model_module_version": "1.5.0",
            "_view_count": null,
            "_view_module_version": "1.2.0",
            "bar_color": null,
            "_model_module": "@jupyter-widgets/controls"
          }
        },
        "746ab776e6644fe389f6578a1a3859da": {
          "model_module": "@jupyter-widgets/base",
          "model_name": "LayoutModel",
          "state": {
            "_view_name": "LayoutView",
            "grid_template_rows": null,
            "right": null,
            "justify_content": null,
            "_view_module": "@jupyter-widgets/base",
            "overflow": null,
            "_model_module_version": "1.2.0",
            "_view_count": null,
            "flex_flow": null,
            "width": null,
            "min_width": null,
            "border": null,
            "align_items": null,
            "bottom": null,
            "_model_module": "@jupyter-widgets/base",
            "top": null,
            "grid_column": null,
            "overflow_y": null,
            "overflow_x": null,
            "grid_auto_flow": null,
            "grid_area": null,
            "grid_template_columns": null,
            "flex": null,
            "_model_name": "LayoutModel",
            "justify_items": null,
            "grid_row": null,
            "max_height": null,
            "align_content": null,
            "visibility": null,
            "align_self": null,
            "height": null,
            "min_height": null,
            "padding": null,
            "grid_auto_rows": null,
            "grid_gap": null,
            "max_width": null,
            "order": null,
            "_view_module_version": "1.2.0",
            "grid_template_areas": null,
            "object_position": null,
            "object_fit": null,
            "grid_auto_columns": null,
            "margin": null,
            "display": null,
            "left": null
          }
        },
        "1c451602b61a42378bbd7407bf15beeb": {
          "model_module": "@jupyter-widgets/controls",
          "model_name": "DescriptionStyleModel",
          "state": {
            "_view_name": "StyleView",
            "_model_name": "DescriptionStyleModel",
            "description_width": "",
            "_view_module": "@jupyter-widgets/base",
            "_model_module_version": "1.5.0",
            "_view_count": null,
            "_view_module_version": "1.2.0",
            "_model_module": "@jupyter-widgets/controls"
          }
        },
        "cc0439d765df42c4b89ea853e03471ef": {
          "model_module": "@jupyter-widgets/base",
          "model_name": "LayoutModel",
          "state": {
            "_view_name": "LayoutView",
            "grid_template_rows": null,
            "right": null,
            "justify_content": null,
            "_view_module": "@jupyter-widgets/base",
            "overflow": null,
            "_model_module_version": "1.2.0",
            "_view_count": null,
            "flex_flow": null,
            "width": null,
            "min_width": null,
            "border": null,
            "align_items": null,
            "bottom": null,
            "_model_module": "@jupyter-widgets/base",
            "top": null,
            "grid_column": null,
            "overflow_y": null,
            "overflow_x": null,
            "grid_auto_flow": null,
            "grid_area": null,
            "grid_template_columns": null,
            "flex": null,
            "_model_name": "LayoutModel",
            "justify_items": null,
            "grid_row": null,
            "max_height": null,
            "align_content": null,
            "visibility": null,
            "align_self": null,
            "height": null,
            "min_height": null,
            "padding": null,
            "grid_auto_rows": null,
            "grid_gap": null,
            "max_width": null,
            "order": null,
            "_view_module_version": "1.2.0",
            "grid_template_areas": null,
            "object_position": null,
            "object_fit": null,
            "grid_auto_columns": null,
            "margin": null,
            "display": null,
            "left": null
          }
        },
        "fa347b31ef1b45eebb5c8ab1ec406007": {
          "model_module": "@jupyter-widgets/controls",
          "model_name": "HBoxModel",
          "state": {
            "_view_name": "HBoxView",
            "_dom_classes": [],
            "_model_name": "HBoxModel",
            "_view_module": "@jupyter-widgets/controls",
            "_model_module_version": "1.5.0",
            "_view_count": null,
            "_view_module_version": "1.5.0",
            "box_style": "",
            "layout": "IPY_MODEL_e242eedb7c6e4a1ea5d1fb8f6e7de554",
            "_model_module": "@jupyter-widgets/controls",
            "children": [
              "IPY_MODEL_1d58de6d0ca24add8c14ded589b7a890",
              "IPY_MODEL_f80d277bed2c4a9e98b29409f50a1ede"
            ]
          }
        },
        "e242eedb7c6e4a1ea5d1fb8f6e7de554": {
          "model_module": "@jupyter-widgets/base",
          "model_name": "LayoutModel",
          "state": {
            "_view_name": "LayoutView",
            "grid_template_rows": null,
            "right": null,
            "justify_content": null,
            "_view_module": "@jupyter-widgets/base",
            "overflow": null,
            "_model_module_version": "1.2.0",
            "_view_count": null,
            "flex_flow": null,
            "width": null,
            "min_width": null,
            "border": null,
            "align_items": null,
            "bottom": null,
            "_model_module": "@jupyter-widgets/base",
            "top": null,
            "grid_column": null,
            "overflow_y": null,
            "overflow_x": null,
            "grid_auto_flow": null,
            "grid_area": null,
            "grid_template_columns": null,
            "flex": null,
            "_model_name": "LayoutModel",
            "justify_items": null,
            "grid_row": null,
            "max_height": null,
            "align_content": null,
            "visibility": null,
            "align_self": null,
            "height": null,
            "min_height": null,
            "padding": null,
            "grid_auto_rows": null,
            "grid_gap": null,
            "max_width": null,
            "order": null,
            "_view_module_version": "1.2.0",
            "grid_template_areas": null,
            "object_position": null,
            "object_fit": null,
            "grid_auto_columns": null,
            "margin": null,
            "display": null,
            "left": null
          }
        },
        "1d58de6d0ca24add8c14ded589b7a890": {
          "model_module": "@jupyter-widgets/controls",
          "model_name": "FloatProgressModel",
          "state": {
            "_view_name": "ProgressView",
            "style": "IPY_MODEL_d3c25496aee94ab2a8e867eeb0652eb8",
            "_dom_classes": [],
            "description": "",
            "_model_name": "FloatProgressModel",
            "bar_style": "success",
            "max": 1648877,
            "_view_module": "@jupyter-widgets/controls",
            "_model_module_version": "1.5.0",
            "value": 1648877,
            "_view_count": null,
            "_view_module_version": "1.5.0",
            "orientation": "horizontal",
            "min": 0,
            "description_tooltip": null,
            "_model_module": "@jupyter-widgets/controls",
            "layout": "IPY_MODEL_25bb848d7164445ba76fb3dd4b757bd9"
          }
        },
        "f80d277bed2c4a9e98b29409f50a1ede": {
          "model_module": "@jupyter-widgets/controls",
          "model_name": "HTMLModel",
          "state": {
            "_view_name": "HTMLView",
            "style": "IPY_MODEL_dd4e8f71a073404282c9967d816c4aeb",
            "_dom_classes": [],
            "description": "",
            "_model_name": "HTMLModel",
            "placeholder": "​",
            "_view_module": "@jupyter-widgets/controls",
            "_model_module_version": "1.5.0",
            "value": " 1649664/? [00:49&lt;00:00, 33635.22it/s]",
            "_view_count": null,
            "_view_module_version": "1.5.0",
            "description_tooltip": null,
            "_model_module": "@jupyter-widgets/controls",
            "layout": "IPY_MODEL_e4f86810b2dd4631a90b8c768edd7799"
          }
        },
        "d3c25496aee94ab2a8e867eeb0652eb8": {
          "model_module": "@jupyter-widgets/controls",
          "model_name": "ProgressStyleModel",
          "state": {
            "_view_name": "StyleView",
            "_model_name": "ProgressStyleModel",
            "description_width": "initial",
            "_view_module": "@jupyter-widgets/base",
            "_model_module_version": "1.5.0",
            "_view_count": null,
            "_view_module_version": "1.2.0",
            "bar_color": null,
            "_model_module": "@jupyter-widgets/controls"
          }
        },
        "25bb848d7164445ba76fb3dd4b757bd9": {
          "model_module": "@jupyter-widgets/base",
          "model_name": "LayoutModel",
          "state": {
            "_view_name": "LayoutView",
            "grid_template_rows": null,
            "right": null,
            "justify_content": null,
            "_view_module": "@jupyter-widgets/base",
            "overflow": null,
            "_model_module_version": "1.2.0",
            "_view_count": null,
            "flex_flow": null,
            "width": null,
            "min_width": null,
            "border": null,
            "align_items": null,
            "bottom": null,
            "_model_module": "@jupyter-widgets/base",
            "top": null,
            "grid_column": null,
            "overflow_y": null,
            "overflow_x": null,
            "grid_auto_flow": null,
            "grid_area": null,
            "grid_template_columns": null,
            "flex": null,
            "_model_name": "LayoutModel",
            "justify_items": null,
            "grid_row": null,
            "max_height": null,
            "align_content": null,
            "visibility": null,
            "align_self": null,
            "height": null,
            "min_height": null,
            "padding": null,
            "grid_auto_rows": null,
            "grid_gap": null,
            "max_width": null,
            "order": null,
            "_view_module_version": "1.2.0",
            "grid_template_areas": null,
            "object_position": null,
            "object_fit": null,
            "grid_auto_columns": null,
            "margin": null,
            "display": null,
            "left": null
          }
        },
        "dd4e8f71a073404282c9967d816c4aeb": {
          "model_module": "@jupyter-widgets/controls",
          "model_name": "DescriptionStyleModel",
          "state": {
            "_view_name": "StyleView",
            "_model_name": "DescriptionStyleModel",
            "description_width": "",
            "_view_module": "@jupyter-widgets/base",
            "_model_module_version": "1.5.0",
            "_view_count": null,
            "_view_module_version": "1.2.0",
            "_model_module": "@jupyter-widgets/controls"
          }
        },
        "e4f86810b2dd4631a90b8c768edd7799": {
          "model_module": "@jupyter-widgets/base",
          "model_name": "LayoutModel",
          "state": {
            "_view_name": "LayoutView",
            "grid_template_rows": null,
            "right": null,
            "justify_content": null,
            "_view_module": "@jupyter-widgets/base",
            "overflow": null,
            "_model_module_version": "1.2.0",
            "_view_count": null,
            "flex_flow": null,
            "width": null,
            "min_width": null,
            "border": null,
            "align_items": null,
            "bottom": null,
            "_model_module": "@jupyter-widgets/base",
            "top": null,
            "grid_column": null,
            "overflow_y": null,
            "overflow_x": null,
            "grid_auto_flow": null,
            "grid_area": null,
            "grid_template_columns": null,
            "flex": null,
            "_model_name": "LayoutModel",
            "justify_items": null,
            "grid_row": null,
            "max_height": null,
            "align_content": null,
            "visibility": null,
            "align_self": null,
            "height": null,
            "min_height": null,
            "padding": null,
            "grid_auto_rows": null,
            "grid_gap": null,
            "max_width": null,
            "order": null,
            "_view_module_version": "1.2.0",
            "grid_template_areas": null,
            "object_position": null,
            "object_fit": null,
            "grid_auto_columns": null,
            "margin": null,
            "display": null,
            "left": null
          }
        },
        "038ea46eef674f5fa676290e5b6e89a4": {
          "model_module": "@jupyter-widgets/controls",
          "model_name": "HBoxModel",
          "state": {
            "_view_name": "HBoxView",
            "_dom_classes": [],
            "_model_name": "HBoxModel",
            "_view_module": "@jupyter-widgets/controls",
            "_model_module_version": "1.5.0",
            "_view_count": null,
            "_view_module_version": "1.5.0",
            "box_style": "",
            "layout": "IPY_MODEL_c7072daf79034951a7f6279368d4ddc4",
            "_model_module": "@jupyter-widgets/controls",
            "children": [
              "IPY_MODEL_00c8ae96c6c448988726055ca0ea98f1",
              "IPY_MODEL_abfc726b2a254b7eb123c4cf79b7e9ed"
            ]
          }
        },
        "c7072daf79034951a7f6279368d4ddc4": {
          "model_module": "@jupyter-widgets/base",
          "model_name": "LayoutModel",
          "state": {
            "_view_name": "LayoutView",
            "grid_template_rows": null,
            "right": null,
            "justify_content": null,
            "_view_module": "@jupyter-widgets/base",
            "overflow": null,
            "_model_module_version": "1.2.0",
            "_view_count": null,
            "flex_flow": null,
            "width": null,
            "min_width": null,
            "border": null,
            "align_items": null,
            "bottom": null,
            "_model_module": "@jupyter-widgets/base",
            "top": null,
            "grid_column": null,
            "overflow_y": null,
            "overflow_x": null,
            "grid_auto_flow": null,
            "grid_area": null,
            "grid_template_columns": null,
            "flex": null,
            "_model_name": "LayoutModel",
            "justify_items": null,
            "grid_row": null,
            "max_height": null,
            "align_content": null,
            "visibility": null,
            "align_self": null,
            "height": null,
            "min_height": null,
            "padding": null,
            "grid_auto_rows": null,
            "grid_gap": null,
            "max_width": null,
            "order": null,
            "_view_module_version": "1.2.0",
            "grid_template_areas": null,
            "object_position": null,
            "object_fit": null,
            "grid_auto_columns": null,
            "margin": null,
            "display": null,
            "left": null
          }
        },
        "00c8ae96c6c448988726055ca0ea98f1": {
          "model_module": "@jupyter-widgets/controls",
          "model_name": "FloatProgressModel",
          "state": {
            "_view_name": "ProgressView",
            "style": "IPY_MODEL_aa619189aca14be7bf5181616eaa7d7c",
            "_dom_classes": [],
            "description": "",
            "_model_name": "FloatProgressModel",
            "bar_style": "success",
            "max": 4542,
            "_view_module": "@jupyter-widgets/controls",
            "_model_module_version": "1.5.0",
            "value": 4542,
            "_view_count": null,
            "_view_module_version": "1.5.0",
            "orientation": "horizontal",
            "min": 0,
            "description_tooltip": null,
            "_model_module": "@jupyter-widgets/controls",
            "layout": "IPY_MODEL_5b85443b184443158b6a210f72de8a96"
          }
        },
        "abfc726b2a254b7eb123c4cf79b7e9ed": {
          "model_module": "@jupyter-widgets/controls",
          "model_name": "HTMLModel",
          "state": {
            "_view_name": "HTMLView",
            "style": "IPY_MODEL_f663a016d36542eebd493b4e727f8983",
            "_dom_classes": [],
            "description": "",
            "_model_name": "HTMLModel",
            "placeholder": "​",
            "_view_module": "@jupyter-widgets/controls",
            "_model_module_version": "1.5.0",
            "value": " 5120/? [00:00&lt;00:00, 159661.84it/s]",
            "_view_count": null,
            "_view_module_version": "1.5.0",
            "description_tooltip": null,
            "_model_module": "@jupyter-widgets/controls",
            "layout": "IPY_MODEL_c654eabbc08d43eaa0fdbac5e19b1684"
          }
        },
        "aa619189aca14be7bf5181616eaa7d7c": {
          "model_module": "@jupyter-widgets/controls",
          "model_name": "ProgressStyleModel",
          "state": {
            "_view_name": "StyleView",
            "_model_name": "ProgressStyleModel",
            "description_width": "initial",
            "_view_module": "@jupyter-widgets/base",
            "_model_module_version": "1.5.0",
            "_view_count": null,
            "_view_module_version": "1.2.0",
            "bar_color": null,
            "_model_module": "@jupyter-widgets/controls"
          }
        },
        "5b85443b184443158b6a210f72de8a96": {
          "model_module": "@jupyter-widgets/base",
          "model_name": "LayoutModel",
          "state": {
            "_view_name": "LayoutView",
            "grid_template_rows": null,
            "right": null,
            "justify_content": null,
            "_view_module": "@jupyter-widgets/base",
            "overflow": null,
            "_model_module_version": "1.2.0",
            "_view_count": null,
            "flex_flow": null,
            "width": null,
            "min_width": null,
            "border": null,
            "align_items": null,
            "bottom": null,
            "_model_module": "@jupyter-widgets/base",
            "top": null,
            "grid_column": null,
            "overflow_y": null,
            "overflow_x": null,
            "grid_auto_flow": null,
            "grid_area": null,
            "grid_template_columns": null,
            "flex": null,
            "_model_name": "LayoutModel",
            "justify_items": null,
            "grid_row": null,
            "max_height": null,
            "align_content": null,
            "visibility": null,
            "align_self": null,
            "height": null,
            "min_height": null,
            "padding": null,
            "grid_auto_rows": null,
            "grid_gap": null,
            "max_width": null,
            "order": null,
            "_view_module_version": "1.2.0",
            "grid_template_areas": null,
            "object_position": null,
            "object_fit": null,
            "grid_auto_columns": null,
            "margin": null,
            "display": null,
            "left": null
          }
        },
        "f663a016d36542eebd493b4e727f8983": {
          "model_module": "@jupyter-widgets/controls",
          "model_name": "DescriptionStyleModel",
          "state": {
            "_view_name": "StyleView",
            "_model_name": "DescriptionStyleModel",
            "description_width": "",
            "_view_module": "@jupyter-widgets/base",
            "_model_module_version": "1.5.0",
            "_view_count": null,
            "_view_module_version": "1.2.0",
            "_model_module": "@jupyter-widgets/controls"
          }
        },
        "c654eabbc08d43eaa0fdbac5e19b1684": {
          "model_module": "@jupyter-widgets/base",
          "model_name": "LayoutModel",
          "state": {
            "_view_name": "LayoutView",
            "grid_template_rows": null,
            "right": null,
            "justify_content": null,
            "_view_module": "@jupyter-widgets/base",
            "overflow": null,
            "_model_module_version": "1.2.0",
            "_view_count": null,
            "flex_flow": null,
            "width": null,
            "min_width": null,
            "border": null,
            "align_items": null,
            "bottom": null,
            "_model_module": "@jupyter-widgets/base",
            "top": null,
            "grid_column": null,
            "overflow_y": null,
            "overflow_x": null,
            "grid_auto_flow": null,
            "grid_area": null,
            "grid_template_columns": null,
            "flex": null,
            "_model_name": "LayoutModel",
            "justify_items": null,
            "grid_row": null,
            "max_height": null,
            "align_content": null,
            "visibility": null,
            "align_self": null,
            "height": null,
            "min_height": null,
            "padding": null,
            "grid_auto_rows": null,
            "grid_gap": null,
            "max_width": null,
            "order": null,
            "_view_module_version": "1.2.0",
            "grid_template_areas": null,
            "object_position": null,
            "object_fit": null,
            "grid_auto_columns": null,
            "margin": null,
            "display": null,
            "left": null
          }
        }
      }
    }
  },
  "cells": [
    {
      "cell_type": "markdown",
      "metadata": {
        "id": "view-in-github",
        "colab_type": "text"
      },
      "source": [
        "<a href=\"https://colab.research.google.com/github/Gourdji19/Infogan_Mnist_pytorch/blob/main/P100.ipynb\" target=\"_parent\"><img src=\"https://colab.research.google.com/assets/colab-badge.svg\" alt=\"Open In Colab\"/></a>"
      ]
    },
    {
      "cell_type": "code",
      "metadata": {
        "colab": {
          "base_uri": "https://localhost:8080/"
        },
        "id": "pJbYXou6chZf",
        "outputId": "808e8444-9a60-4268-82b6-f72150f1a316"
      },
      "source": [
        "!nvidia-smi"
      ],
      "execution_count": 1,
      "outputs": [
        {
          "output_type": "stream",
          "text": [
            "Sat May  8 15:02:52 2021       \n",
            "+-----------------------------------------------------------------------------+\n",
            "| NVIDIA-SMI 465.19.01    Driver Version: 460.32.03    CUDA Version: 11.2     |\n",
            "|-------------------------------+----------------------+----------------------+\n",
            "| GPU  Name        Persistence-M| Bus-Id        Disp.A | Volatile Uncorr. ECC |\n",
            "| Fan  Temp  Perf  Pwr:Usage/Cap|         Memory-Usage | GPU-Util  Compute M. |\n",
            "|                               |                      |               MIG M. |\n",
            "|===============================+======================+======================|\n",
            "|   0  Tesla T4            Off  | 00000000:00:04.0 Off |                    0 |\n",
            "| N/A   51C    P8     9W /  70W |      0MiB / 15109MiB |      0%      Default |\n",
            "|                               |                      |                  N/A |\n",
            "+-------------------------------+----------------------+----------------------+\n",
            "                                                                               \n",
            "+-----------------------------------------------------------------------------+\n",
            "| Processes:                                                                  |\n",
            "|  GPU   GI   CI        PID   Type   Process name                  GPU Memory |\n",
            "|        ID   ID                                                   Usage      |\n",
            "|=============================================================================|\n",
            "|  No running processes found                                                 |\n",
            "+-----------------------------------------------------------------------------+\n"
          ],
          "name": "stdout"
        }
      ]
    },
    {
      "cell_type": "code",
      "metadata": {
        "id": "28GNZqH48YU6"
      },
      "source": [
        "import torch\n",
        "import torchvision\n",
        "import torch.nn as nn\n",
        "import torch.nn.functional as F"
      ],
      "execution_count": 2,
      "outputs": []
    },
    {
      "cell_type": "code",
      "metadata": {
        "id": "PDMCxZHx8aFw"
      },
      "source": [
        "from torch.utils.data import DataLoader\n",
        "from torchvision import datasets\n",
        "from torchvision import transforms\n",
        "from torchvision.utils import save_image"
      ],
      "execution_count": 3,
      "outputs": []
    },
    {
      "cell_type": "code",
      "metadata": {
        "id": "23amCAPQ8btO"
      },
      "source": [
        "import numpy as np\n",
        "import datetime\n",
        "import os, sys"
      ],
      "execution_count": 4,
      "outputs": []
    },
    {
      "cell_type": "code",
      "metadata": {
        "id": "KTo9zn8E8dMn",
        "outputId": "bb786399-7a49-4c0c-f932-597c6dd6fe8b",
        "colab": {
          "base_uri": "https://localhost:8080/"
        }
      },
      "source": [
        "import sys\n",
        "!{sys.executable} -m pip install tensorboardX"
      ],
      "execution_count": 5,
      "outputs": [
        {
          "output_type": "stream",
          "text": [
            "Collecting tensorboardX\n",
            "\u001b[?25l  Downloading https://files.pythonhosted.org/packages/07/84/46421bd3e0e89a92682b1a38b40efc22dafb6d8e3d947e4ceefd4a5fabc7/tensorboardX-2.2-py2.py3-none-any.whl (120kB)\n",
            "\r\u001b[K     |██▊                             | 10kB 23.3MB/s eta 0:00:01\r\u001b[K     |█████▍                          | 20kB 15.0MB/s eta 0:00:01\r\u001b[K     |████████▏                       | 30kB 12.8MB/s eta 0:00:01\r\u001b[K     |██████████▉                     | 40kB 12.1MB/s eta 0:00:01\r\u001b[K     |█████████████▋                  | 51kB 8.3MB/s eta 0:00:01\r\u001b[K     |████████████████▎               | 61kB 7.7MB/s eta 0:00:01\r\u001b[K     |███████████████████             | 71kB 8.7MB/s eta 0:00:01\r\u001b[K     |█████████████████████▊          | 81kB 9.7MB/s eta 0:00:01\r\u001b[K     |████████████████████████▌       | 92kB 8.9MB/s eta 0:00:01\r\u001b[K     |███████████████████████████▏    | 102kB 8.0MB/s eta 0:00:01\r\u001b[K     |██████████████████████████████  | 112kB 8.0MB/s eta 0:00:01\r\u001b[K     |████████████████████████████████| 122kB 8.0MB/s \n",
            "\u001b[?25hRequirement already satisfied: protobuf>=3.8.0 in /usr/local/lib/python3.7/dist-packages (from tensorboardX) (3.12.4)\n",
            "Requirement already satisfied: numpy in /usr/local/lib/python3.7/dist-packages (from tensorboardX) (1.19.5)\n",
            "Requirement already satisfied: six>=1.9 in /usr/local/lib/python3.7/dist-packages (from protobuf>=3.8.0->tensorboardX) (1.15.0)\n",
            "Requirement already satisfied: setuptools in /usr/local/lib/python3.7/dist-packages (from protobuf>=3.8.0->tensorboardX) (56.1.0)\n",
            "Installing collected packages: tensorboardX\n",
            "Successfully installed tensorboardX-2.2\n"
          ],
          "name": "stdout"
        }
      ]
    },
    {
      "cell_type": "code",
      "metadata": {
        "id": "qNjtDkWL8e3K"
      },
      "source": [
        "from tensorboardX import SummaryWriter"
      ],
      "execution_count": 6,
      "outputs": []
    },
    {
      "cell_type": "code",
      "metadata": {
        "id": "7ch4VO2J8gxW"
      },
      "source": [
        "from matplotlib.pyplot import imshow, imsave\n",
        "%matplotlib inline"
      ],
      "execution_count": 7,
      "outputs": []
    },
    {
      "cell_type": "code",
      "metadata": {
        "id": "S2FhYz6W8iTq"
      },
      "source": [
        "MODEL_NAME = 'infoGAN'\n",
        "DEVICE = torch.device('cuda' if torch.cuda.is_available() else 'cpu')"
      ],
      "execution_count": 8,
      "outputs": []
    },
    {
      "cell_type": "code",
      "metadata": {
        "id": "XG41qSQT8joh"
      },
      "source": [
        "def to_onehot(x, num_classes=10):\n",
        "    assert isinstance(x, int) or isinstance(x, (torch.LongTensor, torch.cuda.LongTensor))\n",
        "    if isinstance(x, int):\n",
        "        c = torch.zeros(1, num_classes).long()\n",
        "        c[0][x] = 1\n",
        "    else:\n",
        "        x = x.cpu()\n",
        "        c = torch.LongTensor(x.size(0), num_classes)\n",
        "        c.zero_()\n",
        "        c.scatter_(1, x, 1) # dim, index, src value\n",
        "    return c"
      ],
      "execution_count": 9,
      "outputs": []
    },
    {
      "cell_type": "code",
      "metadata": {
        "id": "WXvMS7CY8lAB"
      },
      "source": [
        "def sample_noise(batch_size, n_noise, n_c_discrete, n_c_continuous, label=None, supervised=False):\n",
        "    z = torch.randn(batch_size, n_noise).to(DEVICE)\n",
        "    if supervised:\n",
        "        c_discrete = to_onehot(label).to(DEVICE) # (B,10)\n",
        "    else:\n",
        "        c_discrete = to_onehot(torch.LongTensor(batch_size, 1).random_(0, n_c_discrete)).to(DEVICE) # (B,10)\n",
        "    c_continuous = torch.zeros(batch_size, n_c_continuous).uniform_(-1, 1).to(DEVICE) # (B,2)\n",
        "    c = torch.cat((c_discrete.float(), c_continuous), 1)\n",
        "    return z, c"
      ],
      "execution_count": 10,
      "outputs": []
    },
    {
      "cell_type": "code",
      "metadata": {
        "id": "LOngQlxb8mbC"
      },
      "source": [
        "def get_sample_image():\n",
        "    \"\"\"\n",
        "        save sample 100 images\n",
        "    \"\"\"\n",
        "    images = []\n",
        "    # continuous code\n",
        "    for cc_type in range(2):\n",
        "        for num in range(10):\n",
        "            fix_z = torch.randn(1, n_noise)\n",
        "            z = fix_z.to(DEVICE)\n",
        "            cc = -1\n",
        "            for i in range(10):\n",
        "                cc += 0.2\n",
        "                c_discrete = to_onehot(num).to(DEVICE) # (B,10)\n",
        "                c_continuous = torch.zeros(1, n_c_continuous).to(DEVICE)\n",
        "                c_continuous.data[:,cc_type].add_(cc)\n",
        "                c = torch.cat((c_discrete.float(), c_continuous), 1)\n",
        "                y_hat = G(z, c)\n",
        "                line_img = torch.cat((line_img, y_hat.view(28, 28)), dim=1) if i > 0 else y_hat.view(28, 28)\n",
        "            all_img = torch.cat((all_img, line_img), dim=0) if num > 0 else line_img\n",
        "        img = all_img.cpu().data.numpy()\n",
        "        images.append(img)\n",
        "    # discrete code\n",
        "    for num in range(10):\n",
        "        c_discrete = to_onehot(num).to(DEVICE) # (B,10)\n",
        "        for i in range(10):\n",
        "            z = torch.randn(1, n_noise).to(DEVICE)\n",
        "            c_continuous = torch.zeros(1, n_c_continuous).to(DEVICE)\n",
        "            c = torch.cat((c_discrete.float(), c_continuous), 1)\n",
        "            y_hat = G(z, c)\n",
        "            line_img = torch.cat((line_img, y_hat.view(28, 28)), dim=1) if i > 0 else y_hat.view(28, 28)\n",
        "        all_img = torch.cat((all_img, line_img), dim=0) if num > 0 else line_img\n",
        "    img = all_img.cpu().data.numpy()\n",
        "    images.append(img)\n",
        "    return images[0], images[1], images[2]"
      ],
      "execution_count": 11,
      "outputs": []
    },
    {
      "cell_type": "code",
      "metadata": {
        "id": "vtRhbaOc8n9m"
      },
      "source": [
        "def log_gaussian(c, mu, var):\n",
        "    \"\"\"\n",
        "        criterion for Q(condition classifier)\n",
        "    \"\"\"\n",
        "    return -((c - mu)**2)/(2*var+1e-8) - 0.5*torch.log(2*np.pi*var+1e-8)"
      ],
      "execution_count": 12,
      "outputs": []
    },
    {
      "cell_type": "code",
      "metadata": {
        "id": "p5ye2-I38pZR"
      },
      "source": [
        "class Discriminator(nn.Module):\n",
        "    \"\"\"\n",
        "        Convolutional Discriminator for MNIST\n",
        "    \"\"\"\n",
        "    def __init__(self, in_channel=1):\n",
        "        super(Discriminator, self).__init__()\n",
        "        self.layer1 = nn.Sequential(# 28 -> 14\n",
        "            nn.Conv2d(in_channel, 64, 3, stride=2, padding=1, bias=False),\n",
        "            nn.BatchNorm2d(64),\n",
        "            nn.LeakyReLU(0.1),\n",
        "        )\n",
        "        self.layer2 = nn.Sequential(# 14 -> 7\n",
        "            nn.Conv2d(64, 128, 3, stride=2, padding=1, bias=False),\n",
        "            nn.BatchNorm2d(128),\n",
        "            nn.LeakyReLU(0.1),\n",
        "        )\n",
        "        self.layer3 = nn.Sequential(#\n",
        "            nn.Linear(128*7*7, 1024),\n",
        "            nn.BatchNorm1d(1024),\n",
        "            nn.LeakyReLU(0.1),\n",
        "        )\n",
        "        self.fc = nn.Sequential(\n",
        "            nn.Linear(1024, 1),\n",
        "            nn.Sigmoid(),\n",
        "        )\n",
        "    \n",
        "    def forward(self, x):\n",
        "        y_ = self.layer1(x)\n",
        "        y_ = self.layer2(y_)\n",
        "        y_ = y_.view(y_.size(0), -1)\n",
        "        y_ = self.layer3(y_)\n",
        "        d = self.fc(y_) # Real / Fake        \n",
        "        return d, y_ # return with top layer features for Q"
      ],
      "execution_count": 13,
      "outputs": []
    },
    {
      "cell_type": "code",
      "metadata": {
        "id": "agFCBB_58snA"
      },
      "source": [
        "class Qrator(nn.Module):\n",
        "    \"\"\"\n",
        "        Regularization Network for increasing Mutual Information\n",
        "    \"\"\"\n",
        "    def __init__(self):\n",
        "        super(Qrator, self).__init__()\n",
        "        self.fc = nn.Sequential(\n",
        "            nn.Linear(1024, 128),\n",
        "            nn.BatchNorm1d(128),\n",
        "            nn.LeakyReLU(0.1),\n",
        "            nn.Linear(128, 14),\n",
        "        )\n",
        "        \n",
        "    def forward(self, x):\n",
        "        # Seperate code\n",
        "        c = self.fc(x)\n",
        "        c_discrete = torch.softmax(c[:, :10], dim=-1) # Digit Label {0~9}\n",
        "        c_mu = c[:, 10:12] # mu & var of Rotation & Thickness\n",
        "        c_var = c[:, 12:14].exp() # mu & var of Rotation & Thickness\n",
        "        return c_discrete, c_mu, c_var"
      ],
      "execution_count": 14,
      "outputs": []
    },
    {
      "cell_type": "code",
      "metadata": {
        "id": "wqyhNwfW8tIB"
      },
      "source": [
        "class Generator(nn.Module):\n",
        "    \"\"\"\n",
        "        Convolutional Generator for MNIST\n",
        "    \"\"\"\n",
        "    def __init__(self, input_size=62, code_size=12, num_classes=784):\n",
        "        super(Generator, self).__init__()\n",
        "        self.layer1 = nn.Sequential(\n",
        "            nn.Linear(input_size+code_size, 1024),\n",
        "            nn.BatchNorm1d(1024),\n",
        "            nn.ReLU(),\n",
        "        )\n",
        "        self.layer2 = nn.Sequential(\n",
        "            nn.Linear(1024, 7*7*128),\n",
        "            nn.BatchNorm1d(7*7*128),\n",
        "            nn.ReLU(),\n",
        "        )\n",
        "        self.layer3 = nn.Sequential(# input: 7 by 7, output: 14 by 14\n",
        "            nn.ConvTranspose2d(128, 64, 4, stride=2, padding=1, bias=False),\n",
        "            nn.BatchNorm2d(64),\n",
        "            nn.ReLU(),\n",
        "        )\n",
        "        self.layer4 = nn.Sequential(# input: 14 by 14, output: 28 by 28\n",
        "            nn.ConvTranspose2d(64, 1, 4, stride=2, padding=1, bias=False),\n",
        "            nn.Tanh(),\n",
        "        )\n",
        "        \n",
        "    def forward(self, z, c):\n",
        "        z = z.view(z.size(0), -1)\n",
        "        c = c.view(c.size(0), -1)\n",
        "        noise = torch.cat((z, c), 1)\n",
        "#         print(noise.size())\n",
        "        x_ = self.layer1(noise)\n",
        "        x_ = self.layer2(x_)\n",
        "        x_ = x_.view(x_.size(0), 128, 7, 7)\n",
        "        x_ = self.layer3(x_)\n",
        "        x_ = self.layer4(x_)\n",
        "        return x_"
      ],
      "execution_count": 15,
      "outputs": []
    },
    {
      "cell_type": "code",
      "metadata": {
        "id": "i4R7TsGO8u0s"
      },
      "source": [
        "D = Discriminator().to(DEVICE)\n",
        "G = Generator().to(DEVICE)\n",
        "Q = Qrator().to(DEVICE)\n",
        "# D.load_state_dict('D_dc.pkl')\n",
        "# G.load_state_dict('G_dc.pkl')"
      ],
      "execution_count": 16,
      "outputs": []
    },
    {
      "cell_type": "code",
      "metadata": {
        "id": "Zl2cTiQ-8wPC"
      },
      "source": [
        "transform = transforms.Compose([transforms.ToTensor(),\n",
        "                                transforms.Normalize(mean=[0.5],\n",
        "                                std=[0.5])]\n",
        ")"
      ],
      "execution_count": 17,
      "outputs": []
    },
    {
      "cell_type": "code",
      "metadata": {
        "id": "lXQKeSiS8xko",
        "outputId": "998d1288-dbc6-4328-cc31-f77b90af1fdf",
        "colab": {
          "base_uri": "https://localhost:8080/",
          "height": 658,
          "referenced_widgets": [
            "1c0562b46dad4df1b9594ca4c3b886be",
            "532a1cf1f5814a2ca1466748da98d810",
            "e9c02781bc604ecdafd868a7db095bc9",
            "2d9fc5a4d7db411f878a0f9735f9c5b0",
            "0e804bb803a4478a85f6cad2681ccee8",
            "340487c5afa74800bb85f9840c3922ca",
            "1183b9284183413b813c9a79752f7066",
            "ad7f49892ea74b47ae9d56482bf19c19",
            "ed6b890ede8348699bfe6902617c3bc2",
            "0d96a716d31e4316a638e6ec599e32c8",
            "0207343b20d840df9f7f7fe88e0dee14",
            "8e9fcbc2560445cc9cccc0efa5a5f670",
            "6646433bff32445896484c7a8589b8cb",
            "746ab776e6644fe389f6578a1a3859da",
            "1c451602b61a42378bbd7407bf15beeb",
            "cc0439d765df42c4b89ea853e03471ef",
            "fa347b31ef1b45eebb5c8ab1ec406007",
            "e242eedb7c6e4a1ea5d1fb8f6e7de554",
            "1d58de6d0ca24add8c14ded589b7a890",
            "f80d277bed2c4a9e98b29409f50a1ede",
            "d3c25496aee94ab2a8e867eeb0652eb8",
            "25bb848d7164445ba76fb3dd4b757bd9",
            "dd4e8f71a073404282c9967d816c4aeb",
            "e4f86810b2dd4631a90b8c768edd7799",
            "038ea46eef674f5fa676290e5b6e89a4",
            "c7072daf79034951a7f6279368d4ddc4",
            "00c8ae96c6c448988726055ca0ea98f1",
            "abfc726b2a254b7eb123c4cf79b7e9ed",
            "aa619189aca14be7bf5181616eaa7d7c",
            "5b85443b184443158b6a210f72de8a96",
            "f663a016d36542eebd493b4e727f8983",
            "c654eabbc08d43eaa0fdbac5e19b1684"
          ]
        }
      },
      "source": [
        "mnist = datasets.MNIST(root='../data/', train=True, transform=transform, download=True)"
      ],
      "execution_count": 18,
      "outputs": [
        {
          "output_type": "stream",
          "text": [
            "Downloading http://yann.lecun.com/exdb/mnist/train-images-idx3-ubyte.gz\n",
            "Downloading http://yann.lecun.com/exdb/mnist/train-images-idx3-ubyte.gz to ../data/MNIST/raw/train-images-idx3-ubyte.gz\n",
            "Failed to download (trying next):\n",
            "HTTP Error 503: Service Unavailable\n",
            "\n",
            "Downloading https://ossci-datasets.s3.amazonaws.com/mnist/train-images-idx3-ubyte.gz\n",
            "Downloading https://ossci-datasets.s3.amazonaws.com/mnist/train-images-idx3-ubyte.gz to ../data/MNIST/raw/train-images-idx3-ubyte.gz\n"
          ],
          "name": "stdout"
        },
        {
          "output_type": "display_data",
          "data": {
            "application/vnd.jupyter.widget-view+json": {
              "model_id": "1c0562b46dad4df1b9594ca4c3b886be",
              "version_minor": 0,
              "version_major": 2
            },
            "text/plain": [
              "HBox(children=(FloatProgress(value=0.0, max=9912422.0), HTML(value='')))"
            ]
          },
          "metadata": {
            "tags": []
          }
        },
        {
          "output_type": "stream",
          "text": [
            "\n",
            "Extracting ../data/MNIST/raw/train-images-idx3-ubyte.gz to ../data/MNIST/raw\n",
            "\n",
            "Downloading http://yann.lecun.com/exdb/mnist/train-labels-idx1-ubyte.gz\n",
            "Downloading http://yann.lecun.com/exdb/mnist/train-labels-idx1-ubyte.gz to ../data/MNIST/raw/train-labels-idx1-ubyte.gz\n"
          ],
          "name": "stdout"
        },
        {
          "output_type": "display_data",
          "data": {
            "application/vnd.jupyter.widget-view+json": {
              "model_id": "ed6b890ede8348699bfe6902617c3bc2",
              "version_minor": 0,
              "version_major": 2
            },
            "text/plain": [
              "HBox(children=(FloatProgress(value=0.0, max=28881.0), HTML(value='')))"
            ]
          },
          "metadata": {
            "tags": []
          }
        },
        {
          "output_type": "stream",
          "text": [
            "\n",
            "Extracting ../data/MNIST/raw/train-labels-idx1-ubyte.gz to ../data/MNIST/raw\n",
            "\n",
            "Downloading http://yann.lecun.com/exdb/mnist/t10k-images-idx3-ubyte.gz\n",
            "Downloading http://yann.lecun.com/exdb/mnist/t10k-images-idx3-ubyte.gz to ../data/MNIST/raw/t10k-images-idx3-ubyte.gz\n"
          ],
          "name": "stdout"
        },
        {
          "output_type": "display_data",
          "data": {
            "application/vnd.jupyter.widget-view+json": {
              "model_id": "fa347b31ef1b45eebb5c8ab1ec406007",
              "version_minor": 0,
              "version_major": 2
            },
            "text/plain": [
              "HBox(children=(FloatProgress(value=0.0, max=1648877.0), HTML(value='')))"
            ]
          },
          "metadata": {
            "tags": []
          }
        },
        {
          "output_type": "stream",
          "text": [
            "\n",
            "Extracting ../data/MNIST/raw/t10k-images-idx3-ubyte.gz to ../data/MNIST/raw\n",
            "\n",
            "Downloading http://yann.lecun.com/exdb/mnist/t10k-labels-idx1-ubyte.gz\n",
            "Downloading http://yann.lecun.com/exdb/mnist/t10k-labels-idx1-ubyte.gz to ../data/MNIST/raw/t10k-labels-idx1-ubyte.gz\n"
          ],
          "name": "stdout"
        },
        {
          "output_type": "display_data",
          "data": {
            "application/vnd.jupyter.widget-view+json": {
              "model_id": "038ea46eef674f5fa676290e5b6e89a4",
              "version_minor": 0,
              "version_major": 2
            },
            "text/plain": [
              "HBox(children=(FloatProgress(value=0.0, max=4542.0), HTML(value='')))"
            ]
          },
          "metadata": {
            "tags": []
          }
        },
        {
          "output_type": "stream",
          "text": [
            "\n",
            "Extracting ../data/MNIST/raw/t10k-labels-idx1-ubyte.gz to ../data/MNIST/raw\n",
            "\n",
            "Processing...\n",
            "Done!\n"
          ],
          "name": "stdout"
        },
        {
          "output_type": "stream",
          "text": [
            "/usr/local/lib/python3.7/dist-packages/torchvision/datasets/mnist.py:502: UserWarning: The given NumPy array is not writeable, and PyTorch does not support non-writeable tensors. This means you can write to the underlying (supposedly non-writeable) NumPy array using the tensor. You may want to copy the array to protect its data or make it writeable before converting it to a tensor. This type of warning will be suppressed for the rest of this program. (Triggered internally at  /pytorch/torch/csrc/utils/tensor_numpy.cpp:143.)\n",
            "  return torch.from_numpy(parsed.astype(m[2], copy=False)).view(*s)\n"
          ],
          "name": "stderr"
        }
      ]
    },
    {
      "cell_type": "code",
      "metadata": {
        "id": "TSuPKXOi8y9D"
      },
      "source": [
        "batch_size = 128"
      ],
      "execution_count": 19,
      "outputs": []
    },
    {
      "cell_type": "code",
      "metadata": {
        "id": "EVl1e3fJ80hZ"
      },
      "source": [
        "data_loader = DataLoader(dataset=mnist, batch_size=batch_size, shuffle=True, drop_last=True, pin_memory=True)"
      ],
      "execution_count": 20,
      "outputs": []
    },
    {
      "cell_type": "code",
      "metadata": {
        "id": "38929UN182ZL"
      },
      "source": [
        "bce_loss = nn.BCELoss()\n",
        "ce_loss = nn.CrossEntropyLoss()\n",
        "\n",
        "D_opt = torch.optim.Adam(D.parameters(), lr=2e-4, betas=(0.5, 0.99))\n",
        "G_opt = torch.optim.Adam([{'params':G.parameters()}, {'params':Q.parameters()}], lr=1e-3, betas=(0.5, 0.99))"
      ],
      "execution_count": 21,
      "outputs": []
    },
    {
      "cell_type": "code",
      "metadata": {
        "id": "pQfn95Ds83ti"
      },
      "source": [
        "max_epoch = 200 # need more than 200 epochs for training generator\n",
        "step = 0\n",
        "n_critic = 1 # for training more k steps about Discriminator\n",
        "n_noise = 62\n",
        "n_c_discrete, n_c_continuous = 10, 2\n",
        "\n",
        "D_labels = torch.ones([batch_size, 1]).to(DEVICE) # Discriminator Label to real\n",
        "D_fakes = torch.zeros([batch_size, 1]).to(DEVICE) # Discriminator Label to fake"
      ],
      "execution_count": 22,
      "outputs": []
    },
    {
      "cell_type": "code",
      "metadata": {
        "id": "qPfKRzAO85KH"
      },
      "source": [
        "writer = SummaryWriter()"
      ],
      "execution_count": 23,
      "outputs": []
    },
    {
      "cell_type": "code",
      "metadata": {
        "id": "Yp5cG8Mn86yK",
        "outputId": "79f44064-46ad-4a6b-a161-786c6794233d",
        "colab": {
          "base_uri": "https://localhost:8080/"
        }
      },
      "source": [
        "for epoch in range(max_epoch+1):\n",
        "    for idx, (images, labels) in enumerate(data_loader):\n",
        "        step += 1\n",
        "        labels = labels.view(batch_size, 1)\n",
        "        # Training Discriminator\n",
        "        x = images.to(DEVICE)\n",
        "        x_outputs, _, = D(x)\n",
        "        D_x_loss = bce_loss(x_outputs, D_labels)\n",
        "\n",
        "        z, c = sample_noise(batch_size, n_noise, n_c_discrete, n_c_continuous, label=labels, supervised=True)\n",
        "        z_outputs, _, = D(G(z, c))\n",
        "        D_z_loss = bce_loss(z_outputs, D_fakes)\n",
        "        D_loss = D_x_loss + D_z_loss\n",
        "        \n",
        "        D_opt.zero_grad()\n",
        "        D_loss.backward()\n",
        "        D_opt.step()\n",
        "\n",
        "        # Training Generator\n",
        "        z, c = sample_noise(batch_size, n_noise, n_c_discrete, n_c_continuous, label=labels, supervised=True)\n",
        "        c_discrete_label = torch.max(c[:, :-2], 1)[1].view(-1, 1)\n",
        "\n",
        "        z_outputs, features = D(G(z, c)) # (B,1), (B,10), (B,4)\n",
        "        c_discrete_out, cc_mu, cc_var = Q(features)\n",
        "\n",
        "        G_loss = bce_loss(z_outputs, D_labels)\n",
        "        Q_loss_discrete = ce_loss(c_discrete_out, c_discrete_label.view(-1))\n",
        "        Q_loss_continuous = -torch.mean(torch.sum(log_gaussian(c[:, -2:], cc_mu, cc_var), 1)) # N(x | mu,var) -> (B, 2) -> (,1)\n",
        "        mutual_info_loss = Q_loss_discrete + Q_loss_continuous*0.1\n",
        "\n",
        "        GnQ_loss = G_loss + mutual_info_loss\n",
        "\n",
        "        G_opt.zero_grad()\n",
        "        GnQ_loss.backward()\n",
        "        G_opt.step()\n",
        "\n",
        "        if step > 500 and step % 100 == 0:\n",
        "            writer.add_scalar('loss/total', GnQ_loss, step)\n",
        "            writer.add_scalar('loss/Q_discrete', Q_loss_discrete, step)\n",
        "            writer.add_scalar('loss/Q_continuous', Q_loss_continuous, step)\n",
        "            writer.add_scalar('loss/Q', mutual_info_loss, step)\n",
        "            writer.add_histogram('output/mu', cc_mu)\n",
        "            writer.add_histogram('output/var', cc_var)\n",
        "        \n",
        "        if step % 500 == 0:\n",
        "            print('Epoch: {}/{}, Step: {}, D Loss: {}, G Loss: {}, GnQ Loss: {}, Time: {}'\\\n",
        "                  .format(epoch, max_epoch, step, D_loss.item(), G_loss.item(), GnQ_loss.item(), str(datetime.datetime.today())[:-7]))\n",
        "            \n",
        "        if step % 1000 == 0:\n",
        "            G.eval()\n",
        "            G.train()\n",
        "writer.export_scalars_to_json(\"./all_summary.json\")\n",
        "writer.close()"
      ],
      "execution_count": null,
      "outputs": [
        {
          "output_type": "stream",
          "text": [
            "Epoch: 1/200, Step: 500, D Loss: 1.0167902708053589, G Loss: 1.1650464534759521, GnQ Loss: 2.657406806945801, Time: 2021-05-08 15:04:19\n",
            "Epoch: 2/200, Step: 1000, D Loss: 1.0807607173919678, G Loss: 0.9979288578033447, GnQ Loss: 2.4148213863372803, Time: 2021-05-08 15:04:36\n",
            "Epoch: 3/200, Step: 1500, D Loss: 1.0267797708511353, G Loss: 1.0362234115600586, GnQ Loss: 2.4339280128479004, Time: 2021-05-08 15:04:53\n",
            "Epoch: 4/200, Step: 2000, D Loss: 1.0399398803710938, G Loss: 1.041640281677246, GnQ Loss: 2.417072296142578, Time: 2021-05-08 15:05:09\n",
            "Epoch: 5/200, Step: 2500, D Loss: 1.1205613613128662, G Loss: 1.1065657138824463, GnQ Loss: 2.4592511653900146, Time: 2021-05-08 15:05:26\n",
            "Epoch: 6/200, Step: 3000, D Loss: 0.9858573079109192, G Loss: 1.1875038146972656, GnQ Loss: 2.5454530715942383, Time: 2021-05-08 15:05:42\n",
            "Epoch: 7/200, Step: 3500, D Loss: 0.9378032684326172, G Loss: 1.212031602859497, GnQ Loss: 2.562837600708008, Time: 2021-05-08 15:05:59\n",
            "Epoch: 8/200, Step: 4000, D Loss: 0.9878464341163635, G Loss: 1.2563254833221436, GnQ Loss: 2.610358476638794, Time: 2021-05-08 15:06:16\n",
            "Epoch: 9/200, Step: 4500, D Loss: 1.006216049194336, G Loss: 1.2802098989486694, GnQ Loss: 2.653743267059326, Time: 2021-05-08 15:06:32\n",
            "Epoch: 10/200, Step: 5000, D Loss: 0.8060731291770935, G Loss: 1.299965739250183, GnQ Loss: 2.641774892807007, Time: 2021-05-08 15:06:49\n",
            "Epoch: 11/200, Step: 5500, D Loss: 0.8601343631744385, G Loss: 1.1395617723464966, GnQ Loss: 2.4823265075683594, Time: 2021-05-08 15:07:06\n",
            "Epoch: 12/200, Step: 6000, D Loss: 0.8103410601615906, G Loss: 1.4688595533370972, GnQ Loss: 2.8407468795776367, Time: 2021-05-08 15:07:22\n",
            "Epoch: 13/200, Step: 6500, D Loss: 0.8000988960266113, G Loss: 1.370639443397522, GnQ Loss: 2.7274482250213623, Time: 2021-05-08 15:07:39\n",
            "Epoch: 14/200, Step: 7000, D Loss: 0.7547886371612549, G Loss: 1.4910380840301514, GnQ Loss: 2.844686269760132, Time: 2021-05-08 15:07:56\n",
            "Epoch: 16/200, Step: 7500, D Loss: 0.7018061876296997, G Loss: 1.6331212520599365, GnQ Loss: 2.9738423824310303, Time: 2021-05-08 15:08:12\n",
            "Epoch: 17/200, Step: 8000, D Loss: 0.6432585716247559, G Loss: 2.105742931365967, GnQ Loss: 3.4736618995666504, Time: 2021-05-08 15:08:29\n",
            "Epoch: 18/200, Step: 8500, D Loss: 0.5251948237419128, G Loss: 2.1790878772735596, GnQ Loss: 3.549873113632202, Time: 2021-05-08 15:08:46\n",
            "Epoch: 19/200, Step: 9000, D Loss: 0.5249024629592896, G Loss: 1.9891165494918823, GnQ Loss: 3.3418359756469727, Time: 2021-05-08 15:09:02\n",
            "Epoch: 20/200, Step: 9500, D Loss: 0.5861196517944336, G Loss: 2.2590951919555664, GnQ Loss: 3.670252799987793, Time: 2021-05-08 15:09:19\n",
            "Epoch: 21/200, Step: 10000, D Loss: 0.5697234869003296, G Loss: 2.0737051963806152, GnQ Loss: 3.4306368827819824, Time: 2021-05-08 15:09:36\n",
            "Epoch: 22/200, Step: 10500, D Loss: 0.6622435450553894, G Loss: 1.923505425453186, GnQ Loss: 3.273439884185791, Time: 2021-05-08 15:09:53\n",
            "Epoch: 23/200, Step: 11000, D Loss: 0.598556399345398, G Loss: 2.337205410003662, GnQ Loss: 3.693053960800171, Time: 2021-05-08 15:10:10\n",
            "Epoch: 24/200, Step: 11500, D Loss: 0.48853790760040283, G Loss: 2.439030408859253, GnQ Loss: 3.821295738220215, Time: 2021-05-08 15:10:28\n",
            "Epoch: 25/200, Step: 12000, D Loss: 0.5766441822052002, G Loss: 1.898915410041809, GnQ Loss: 3.2641682624816895, Time: 2021-05-08 15:10:45\n",
            "Epoch: 26/200, Step: 12500, D Loss: 0.5602918863296509, G Loss: 1.108476161956787, GnQ Loss: 2.4618000984191895, Time: 2021-05-08 15:11:02\n",
            "Epoch: 27/200, Step: 13000, D Loss: 0.46239879727363586, G Loss: 2.466102123260498, GnQ Loss: 3.820091724395752, Time: 2021-05-08 15:11:19\n",
            "Epoch: 28/200, Step: 13500, D Loss: 0.4888644218444824, G Loss: 2.0788235664367676, GnQ Loss: 3.43552565574646, Time: 2021-05-08 15:11:37\n",
            "Epoch: 29/200, Step: 14000, D Loss: 0.5271071195602417, G Loss: 1.6977640390396118, GnQ Loss: 3.0518016815185547, Time: 2021-05-08 15:11:54\n",
            "Epoch: 30/200, Step: 14500, D Loss: 0.4414578378200531, G Loss: 2.00015926361084, GnQ Loss: 3.3698105812072754, Time: 2021-05-08 15:12:12\n",
            "Epoch: 32/200, Step: 15000, D Loss: 0.5920776724815369, G Loss: 2.453824043273926, GnQ Loss: 3.813401460647583, Time: 2021-05-08 15:12:29\n",
            "Epoch: 33/200, Step: 15500, D Loss: 0.4580536484718323, G Loss: 2.4043021202087402, GnQ Loss: 3.787224292755127, Time: 2021-05-08 15:12:46\n",
            "Epoch: 34/200, Step: 16000, D Loss: 0.5715636610984802, G Loss: 2.106051445007324, GnQ Loss: 3.458132743835449, Time: 2021-05-08 15:13:03\n",
            "Epoch: 35/200, Step: 16500, D Loss: 0.634743332862854, G Loss: 2.3109290599823, GnQ Loss: 3.704038381576538, Time: 2021-05-08 15:13:20\n",
            "Epoch: 36/200, Step: 17000, D Loss: 0.7351936101913452, G Loss: 2.2663516998291016, GnQ Loss: 3.6274075508117676, Time: 2021-05-08 15:13:37\n",
            "Epoch: 37/200, Step: 17500, D Loss: 0.2853875756263733, G Loss: 2.5946226119995117, GnQ Loss: 3.955652952194214, Time: 2021-05-08 15:13:54\n",
            "Epoch: 38/200, Step: 18000, D Loss: 0.30734384059906006, G Loss: 2.3349409103393555, GnQ Loss: 3.724076271057129, Time: 2021-05-08 15:14:11\n",
            "Epoch: 39/200, Step: 18500, D Loss: 0.4710967242717743, G Loss: 2.712589740753174, GnQ Loss: 4.0833940505981445, Time: 2021-05-08 15:14:29\n",
            "Epoch: 40/200, Step: 19000, D Loss: 0.41952985525131226, G Loss: 2.4479217529296875, GnQ Loss: 3.8464784622192383, Time: 2021-05-08 15:14:46\n",
            "Epoch: 41/200, Step: 19500, D Loss: 0.4356301426887512, G Loss: 2.6780436038970947, GnQ Loss: 4.016557216644287, Time: 2021-05-08 15:15:03\n",
            "Epoch: 42/200, Step: 20000, D Loss: 0.5399691462516785, G Loss: 2.187380313873291, GnQ Loss: 3.535085678100586, Time: 2021-05-08 15:15:20\n",
            "Epoch: 43/200, Step: 20500, D Loss: 0.458636999130249, G Loss: 2.911187171936035, GnQ Loss: 4.264759063720703, Time: 2021-05-08 15:15:37\n",
            "Epoch: 44/200, Step: 21000, D Loss: 0.3955085277557373, G Loss: 2.668208122253418, GnQ Loss: 4.052775859832764, Time: 2021-05-08 15:15:54\n",
            "Epoch: 45/200, Step: 21500, D Loss: 0.45350825786590576, G Loss: 2.251214027404785, GnQ Loss: 3.633988857269287, Time: 2021-05-08 15:16:11\n",
            "Epoch: 47/200, Step: 22000, D Loss: 0.6155078411102295, G Loss: 3.258732795715332, GnQ Loss: 4.619807720184326, Time: 2021-05-08 15:16:28\n",
            "Epoch: 48/200, Step: 22500, D Loss: 0.3480646014213562, G Loss: 2.601883888244629, GnQ Loss: 3.965014934539795, Time: 2021-05-08 15:16:45\n",
            "Epoch: 49/200, Step: 23000, D Loss: 0.2598687410354614, G Loss: 3.0351600646972656, GnQ Loss: 4.392357349395752, Time: 2021-05-08 15:17:03\n",
            "Epoch: 50/200, Step: 23500, D Loss: 0.4499633014202118, G Loss: 2.9119627475738525, GnQ Loss: 4.26248025894165, Time: 2021-05-08 15:17:20\n",
            "Epoch: 51/200, Step: 24000, D Loss: 0.4964122772216797, G Loss: 2.9395675659179688, GnQ Loss: 4.288352012634277, Time: 2021-05-08 15:17:37\n",
            "Epoch: 52/200, Step: 24500, D Loss: 0.34185659885406494, G Loss: 3.033352851867676, GnQ Loss: 4.390000343322754, Time: 2021-05-08 15:17:55\n",
            "Epoch: 53/200, Step: 25000, D Loss: 0.5964251756668091, G Loss: 2.3229293823242188, GnQ Loss: 3.729144334793091, Time: 2021-05-08 15:18:12\n",
            "Epoch: 54/200, Step: 25500, D Loss: 0.48782768845558167, G Loss: 2.8953590393066406, GnQ Loss: 4.261603355407715, Time: 2021-05-08 15:18:30\n",
            "Epoch: 55/200, Step: 26000, D Loss: 0.3484119176864624, G Loss: 3.7572927474975586, GnQ Loss: 5.121849060058594, Time: 2021-05-08 15:18:47\n",
            "Epoch: 56/200, Step: 26500, D Loss: 0.3900988698005676, G Loss: 3.6176509857177734, GnQ Loss: 4.9835357666015625, Time: 2021-05-08 15:19:04\n",
            "Epoch: 57/200, Step: 27000, D Loss: 0.4585825800895691, G Loss: 3.5690526962280273, GnQ Loss: 4.925378799438477, Time: 2021-05-08 15:19:21\n",
            "Epoch: 58/200, Step: 27500, D Loss: 0.33334699273109436, G Loss: 2.7400026321411133, GnQ Loss: 4.114226341247559, Time: 2021-05-08 15:19:39\n",
            "Epoch: 59/200, Step: 28000, D Loss: 0.32407861948013306, G Loss: 3.0959391593933105, GnQ Loss: 4.479592323303223, Time: 2021-05-08 15:19:56\n",
            "Epoch: 60/200, Step: 28500, D Loss: 0.3567242920398712, G Loss: 3.061354398727417, GnQ Loss: 4.419149875640869, Time: 2021-05-08 15:20:13\n",
            "Epoch: 61/200, Step: 29000, D Loss: 0.4007588326931, G Loss: 2.822232484817505, GnQ Loss: 4.201519012451172, Time: 2021-05-08 15:20:31\n",
            "Epoch: 63/200, Step: 29500, D Loss: 0.36083874106407166, G Loss: 3.3253817558288574, GnQ Loss: 4.680835247039795, Time: 2021-05-08 15:20:48\n",
            "Epoch: 64/200, Step: 30000, D Loss: 0.34101372957229614, G Loss: 2.5123963356018066, GnQ Loss: 3.890913963317871, Time: 2021-05-08 15:21:06\n",
            "Epoch: 65/200, Step: 30500, D Loss: 0.30769801139831543, G Loss: 3.7570903301239014, GnQ Loss: 5.127429962158203, Time: 2021-05-08 15:21:23\n",
            "Epoch: 66/200, Step: 31000, D Loss: 0.34306931495666504, G Loss: 3.7533183097839355, GnQ Loss: 5.136884689331055, Time: 2021-05-08 15:21:41\n",
            "Epoch: 67/200, Step: 31500, D Loss: 0.2345575988292694, G Loss: 3.8247313499450684, GnQ Loss: 5.207620620727539, Time: 2021-05-08 15:21:58\n",
            "Epoch: 68/200, Step: 32000, D Loss: 0.5009964108467102, G Loss: 3.727552890777588, GnQ Loss: 5.111093997955322, Time: 2021-05-08 15:22:15\n",
            "Epoch: 69/200, Step: 32500, D Loss: 0.311811625957489, G Loss: 2.484851837158203, GnQ Loss: 3.842696189880371, Time: 2021-05-08 15:22:33\n",
            "Epoch: 70/200, Step: 33000, D Loss: 0.29676198959350586, G Loss: 3.918956756591797, GnQ Loss: 5.296217918395996, Time: 2021-05-08 15:22:50\n",
            "Epoch: 71/200, Step: 33500, D Loss: 0.28856727480888367, G Loss: 3.2183432579040527, GnQ Loss: 4.599894046783447, Time: 2021-05-08 15:23:08\n",
            "Epoch: 72/200, Step: 34000, D Loss: 0.5598413944244385, G Loss: 3.1977415084838867, GnQ Loss: 4.556899070739746, Time: 2021-05-08 15:23:25\n",
            "Epoch: 73/200, Step: 34500, D Loss: 0.39444205164909363, G Loss: 3.654862403869629, GnQ Loss: 5.0416579246521, Time: 2021-05-08 15:23:42\n",
            "Epoch: 74/200, Step: 35000, D Loss: 0.261096715927124, G Loss: 4.571381568908691, GnQ Loss: 5.943966865539551, Time: 2021-05-08 15:23:59\n",
            "Epoch: 75/200, Step: 35500, D Loss: 0.30318397283554077, G Loss: 4.139171123504639, GnQ Loss: 5.517673492431641, Time: 2021-05-08 15:24:16\n",
            "Epoch: 76/200, Step: 36000, D Loss: 0.2862808108329773, G Loss: 3.3884410858154297, GnQ Loss: 4.748094081878662, Time: 2021-05-08 15:24:33\n",
            "Epoch: 77/200, Step: 36500, D Loss: 0.2394154667854309, G Loss: 3.832845687866211, GnQ Loss: 5.204644680023193, Time: 2021-05-08 15:24:50\n",
            "Epoch: 79/200, Step: 37000, D Loss: 0.1961365044116974, G Loss: 4.228152751922607, GnQ Loss: 5.646505355834961, Time: 2021-05-08 15:25:06\n",
            "Epoch: 80/200, Step: 37500, D Loss: 0.32383692264556885, G Loss: 3.633483409881592, GnQ Loss: 5.029716491699219, Time: 2021-05-08 15:25:23\n",
            "Epoch: 81/200, Step: 38000, D Loss: 0.2920053005218506, G Loss: 3.329038619995117, GnQ Loss: 4.70024299621582, Time: 2021-05-08 15:25:40\n",
            "Epoch: 82/200, Step: 38500, D Loss: 0.24914993345737457, G Loss: 3.0824904441833496, GnQ Loss: 4.455333232879639, Time: 2021-05-08 15:25:57\n",
            "Epoch: 83/200, Step: 39000, D Loss: 0.229405015707016, G Loss: 4.054896354675293, GnQ Loss: 5.471900939941406, Time: 2021-05-08 15:26:14\n",
            "Epoch: 84/200, Step: 39500, D Loss: 0.2401127815246582, G Loss: 3.5631418228149414, GnQ Loss: 4.961499214172363, Time: 2021-05-08 15:26:31\n",
            "Epoch: 85/200, Step: 40000, D Loss: 0.29963070154190063, G Loss: 3.3028311729431152, GnQ Loss: 4.662508487701416, Time: 2021-05-08 15:26:48\n",
            "Epoch: 86/200, Step: 40500, D Loss: 0.2622980773448944, G Loss: 3.602660655975342, GnQ Loss: 4.981752395629883, Time: 2021-05-08 15:27:05\n",
            "Epoch: 87/200, Step: 41000, D Loss: 0.2670096457004547, G Loss: 3.494339942932129, GnQ Loss: 4.879615783691406, Time: 2021-05-08 15:27:22\n",
            "Epoch: 88/200, Step: 41500, D Loss: 0.38221994042396545, G Loss: 3.0094568729400635, GnQ Loss: 4.391788959503174, Time: 2021-05-08 15:27:39\n",
            "Epoch: 89/200, Step: 42000, D Loss: 0.20193231105804443, G Loss: 3.5104384422302246, GnQ Loss: 4.896939277648926, Time: 2021-05-08 15:27:56\n",
            "Epoch: 90/200, Step: 42500, D Loss: 0.3224124014377594, G Loss: 4.482102394104004, GnQ Loss: 5.8715338706970215, Time: 2021-05-08 15:28:13\n",
            "Epoch: 91/200, Step: 43000, D Loss: 0.19384737312793732, G Loss: 4.251644134521484, GnQ Loss: 5.612904071807861, Time: 2021-05-08 15:28:30\n",
            "Epoch: 92/200, Step: 43500, D Loss: 0.30606865882873535, G Loss: 3.722228765487671, GnQ Loss: 5.101365089416504, Time: 2021-05-08 15:28:47\n",
            "Epoch: 94/200, Step: 44000, D Loss: 0.17967644333839417, G Loss: 3.942241907119751, GnQ Loss: 5.316115379333496, Time: 2021-05-08 15:29:04\n",
            "Epoch: 95/200, Step: 44500, D Loss: 0.3133270740509033, G Loss: 4.29819393157959, GnQ Loss: 5.686398029327393, Time: 2021-05-08 15:29:21\n",
            "Epoch: 96/200, Step: 45000, D Loss: 0.2647368609905243, G Loss: 4.366570472717285, GnQ Loss: 5.758351802825928, Time: 2021-05-08 15:29:38\n",
            "Epoch: 97/200, Step: 45500, D Loss: 0.19696101546287537, G Loss: 4.058187484741211, GnQ Loss: 5.455348014831543, Time: 2021-05-08 15:29:54\n",
            "Epoch: 98/200, Step: 46000, D Loss: 0.23828434944152832, G Loss: 4.492950439453125, GnQ Loss: 5.875518798828125, Time: 2021-05-08 15:30:11\n",
            "Epoch: 99/200, Step: 46500, D Loss: 0.3192586600780487, G Loss: 3.2985243797302246, GnQ Loss: 4.677168369293213, Time: 2021-05-08 15:30:28\n",
            "Epoch: 100/200, Step: 47000, D Loss: 0.2501138746738434, G Loss: 3.8780148029327393, GnQ Loss: 5.25058650970459, Time: 2021-05-08 15:30:45\n",
            "Epoch: 101/200, Step: 47500, D Loss: 0.1850622296333313, G Loss: 3.9319558143615723, GnQ Loss: 5.294781684875488, Time: 2021-05-08 15:31:03\n",
            "Epoch: 102/200, Step: 48000, D Loss: 0.2392035275697708, G Loss: 4.3694305419921875, GnQ Loss: 5.729204177856445, Time: 2021-05-08 15:31:20\n",
            "Epoch: 103/200, Step: 48500, D Loss: 0.2996683120727539, G Loss: 4.315669536590576, GnQ Loss: 5.703169345855713, Time: 2021-05-08 15:31:37\n",
            "Epoch: 104/200, Step: 49000, D Loss: 0.29324138164520264, G Loss: 4.923534393310547, GnQ Loss: 6.274509429931641, Time: 2021-05-08 15:31:54\n",
            "Epoch: 105/200, Step: 49500, D Loss: 0.3118169903755188, G Loss: 4.018801689147949, GnQ Loss: 5.3927130699157715, Time: 2021-05-08 15:32:11\n",
            "Epoch: 106/200, Step: 50000, D Loss: 0.21124833822250366, G Loss: 3.8971776962280273, GnQ Loss: 5.2750935554504395, Time: 2021-05-08 15:32:28\n",
            "Epoch: 107/200, Step: 50500, D Loss: 0.3000524640083313, G Loss: 4.2168707847595215, GnQ Loss: 5.609951496124268, Time: 2021-05-08 15:32:45\n",
            "Epoch: 108/200, Step: 51000, D Loss: 0.23593896627426147, G Loss: 3.928797960281372, GnQ Loss: 5.310140132904053, Time: 2021-05-08 15:33:02\n",
            "Epoch: 110/200, Step: 51500, D Loss: 0.15759488940238953, G Loss: 4.475646018981934, GnQ Loss: 5.867164611816406, Time: 2021-05-08 15:33:20\n",
            "Epoch: 111/200, Step: 52000, D Loss: 0.2744113802909851, G Loss: 4.794753074645996, GnQ Loss: 6.159791946411133, Time: 2021-05-08 15:33:37\n",
            "Epoch: 112/200, Step: 52500, D Loss: 0.3440057039260864, G Loss: 4.880812168121338, GnQ Loss: 6.252964496612549, Time: 2021-05-08 15:33:54\n",
            "Epoch: 113/200, Step: 53000, D Loss: 0.2247803807258606, G Loss: 5.029404640197754, GnQ Loss: 6.409745693206787, Time: 2021-05-08 15:34:11\n",
            "Epoch: 114/200, Step: 53500, D Loss: 0.18704718351364136, G Loss: 5.389863967895508, GnQ Loss: 6.752931118011475, Time: 2021-05-08 15:34:28\n",
            "Epoch: 115/200, Step: 54000, D Loss: 0.19599351286888123, G Loss: 4.39951229095459, GnQ Loss: 5.7459635734558105, Time: 2021-05-08 15:34:45\n",
            "Epoch: 116/200, Step: 54500, D Loss: 0.2663484215736389, G Loss: 4.140776634216309, GnQ Loss: 5.526481628417969, Time: 2021-05-08 15:35:02\n",
            "Epoch: 117/200, Step: 55000, D Loss: 0.18055015802383423, G Loss: 4.662047386169434, GnQ Loss: 6.021575927734375, Time: 2021-05-08 15:35:18\n",
            "Epoch: 118/200, Step: 55500, D Loss: 0.16446006298065186, G Loss: 5.142949104309082, GnQ Loss: 6.50677490234375, Time: 2021-05-08 15:35:35\n",
            "Epoch: 119/200, Step: 56000, D Loss: 0.14220939576625824, G Loss: 5.0725555419921875, GnQ Loss: 6.421090126037598, Time: 2021-05-08 15:35:52\n",
            "Epoch: 120/200, Step: 56500, D Loss: 0.23111353814601898, G Loss: 5.606503009796143, GnQ Loss: 7.00030517578125, Time: 2021-05-08 15:36:09\n",
            "Epoch: 121/200, Step: 57000, D Loss: 0.2586798071861267, G Loss: 3.504307508468628, GnQ Loss: 4.863591194152832, Time: 2021-05-08 15:36:26\n",
            "Epoch: 122/200, Step: 57500, D Loss: 0.1638808250427246, G Loss: 4.040310382843018, GnQ Loss: 5.427186012268066, Time: 2021-05-08 15:36:43\n",
            "Epoch: 123/200, Step: 58000, D Loss: 0.21376964449882507, G Loss: 4.70556640625, GnQ Loss: 6.067083358764648, Time: 2021-05-08 15:36:59\n",
            "Epoch: 124/200, Step: 58500, D Loss: 0.2597387731075287, G Loss: 4.656680583953857, GnQ Loss: 6.024833679199219, Time: 2021-05-08 15:37:16\n",
            "Epoch: 126/200, Step: 59000, D Loss: 0.11422126740217209, G Loss: 5.839137077331543, GnQ Loss: 7.218270301818848, Time: 2021-05-08 15:37:33\n",
            "Epoch: 127/200, Step: 59500, D Loss: 0.24466349184513092, G Loss: 4.9096293449401855, GnQ Loss: 6.2752814292907715, Time: 2021-05-08 15:37:50\n",
            "Epoch: 128/200, Step: 60000, D Loss: 0.1622472107410431, G Loss: 5.1207475662231445, GnQ Loss: 6.482068061828613, Time: 2021-05-08 15:38:06\n",
            "Epoch: 129/200, Step: 60500, D Loss: 0.165976881980896, G Loss: 4.424535751342773, GnQ Loss: 5.795660972595215, Time: 2021-05-08 15:38:23\n",
            "Epoch: 130/200, Step: 61000, D Loss: 0.14688485860824585, G Loss: 4.95436429977417, GnQ Loss: 6.338177680969238, Time: 2021-05-08 15:38:40\n",
            "Epoch: 131/200, Step: 61500, D Loss: 0.16900008916854858, G Loss: 5.674253463745117, GnQ Loss: 7.06809663772583, Time: 2021-05-08 15:38:56\n",
            "Epoch: 132/200, Step: 62000, D Loss: 0.21508240699768066, G Loss: 3.758835792541504, GnQ Loss: 5.171359062194824, Time: 2021-05-08 15:39:13\n",
            "Epoch: 133/200, Step: 62500, D Loss: 0.17284148931503296, G Loss: 5.159670352935791, GnQ Loss: 6.527916431427002, Time: 2021-05-08 15:39:30\n",
            "Epoch: 134/200, Step: 63000, D Loss: 0.12939177453517914, G Loss: 4.122369766235352, GnQ Loss: 5.511202812194824, Time: 2021-05-08 15:39:47\n",
            "Epoch: 135/200, Step: 63500, D Loss: 0.1723637729883194, G Loss: 5.189103603363037, GnQ Loss: 6.611163139343262, Time: 2021-05-08 15:40:03\n",
            "Epoch: 136/200, Step: 64000, D Loss: 0.2293340414762497, G Loss: 5.0208048820495605, GnQ Loss: 6.393136024475098, Time: 2021-05-08 15:40:20\n",
            "Epoch: 137/200, Step: 64500, D Loss: 0.18601956963539124, G Loss: 3.943857192993164, GnQ Loss: 5.341378211975098, Time: 2021-05-08 15:40:37\n",
            "Epoch: 138/200, Step: 65000, D Loss: 0.2185775339603424, G Loss: 5.4679107666015625, GnQ Loss: 6.854008674621582, Time: 2021-05-08 15:40:53\n",
            "Epoch: 139/200, Step: 65500, D Loss: 0.2204398214817047, G Loss: 5.184963703155518, GnQ Loss: 6.585694313049316, Time: 2021-05-08 15:41:10\n",
            "Epoch: 141/200, Step: 66000, D Loss: 0.1531255543231964, G Loss: 5.677967071533203, GnQ Loss: 7.048872947692871, Time: 2021-05-08 15:41:27\n",
            "Epoch: 142/200, Step: 66500, D Loss: 0.16876240074634552, G Loss: 4.558226108551025, GnQ Loss: 5.955328941345215, Time: 2021-05-08 15:41:44\n",
            "Epoch: 143/200, Step: 67000, D Loss: 0.13197071850299835, G Loss: 5.308483600616455, GnQ Loss: 6.6771240234375, Time: 2021-05-08 15:42:01\n",
            "Epoch: 144/200, Step: 67500, D Loss: 0.18415698409080505, G Loss: 5.84119987487793, GnQ Loss: 7.220806121826172, Time: 2021-05-08 15:42:17\n",
            "Epoch: 145/200, Step: 68000, D Loss: 0.1715913712978363, G Loss: 6.084723472595215, GnQ Loss: 7.469568729400635, Time: 2021-05-08 15:42:34\n",
            "Epoch: 146/200, Step: 68500, D Loss: 0.15842124819755554, G Loss: 5.637608528137207, GnQ Loss: 7.00486421585083, Time: 2021-05-08 15:42:51\n",
            "Epoch: 147/200, Step: 69000, D Loss: 0.09484250098466873, G Loss: 5.34060001373291, GnQ Loss: 6.728788375854492, Time: 2021-05-08 15:43:08\n"
          ],
          "name": "stdout"
        }
      ]
    },
    {
      "cell_type": "code",
      "metadata": {
        "id": "xYMPE-aW88K1"
      },
      "source": [
        "# generation to image\n",
        "G.eval()\n",
        "imshow(line_img[0], cmap='gray')\n",
        "#imshow(get_sample_image()[0], cmap='gray')"
      ],
      "execution_count": null,
      "outputs": []
    },
    {
      "cell_type": "code",
      "metadata": {
        "id": "2-V1lr7I892N"
      },
      "source": [
        "imshow(get_sample_image()[1], cmap='gray')"
      ],
      "execution_count": null,
      "outputs": []
    },
    {
      "cell_type": "code",
      "metadata": {
        "id": "mt2JRv6aC91h"
      },
      "source": [
        "import matplotlib.pyplot as plt"
      ],
      "execution_count": null,
      "outputs": []
    },
    {
      "cell_type": "code",
      "metadata": {
        "id": "JUcUgZj48_zt"
      },
      "source": [
        "def save_checkpoint(state, file_name='checkpoint.pth.tar'):\n",
        "    torch.save(state, file_name)"
      ],
      "execution_count": null,
      "outputs": []
    },
    {
      "cell_type": "code",
      "metadata": {
        "id": "O97ww52R9BMN"
      },
      "source": [
        "# Saving params.\n",
        "# torch.save(D.state_dict(), 'D_c.pkl')\n",
        "# torch.save(G.state_dict(), 'G_c.pkl')\n",
        "save_checkpoint({'epoch': epoch + 1, 'state_dict':DnQ.state_dict(), 'optimizer' : DnQ_opt.state_dict()}, 'DnQ_info.pth.tar')\n",
        "save_checkpoint({'epoch': epoch + 1, 'state_dict':G.state_dict(), 'optimizer' : G_opt.state_dict()}, 'G_info.pth.tar')"
      ],
      "execution_count": null,
      "outputs": []
    }
  ]
}
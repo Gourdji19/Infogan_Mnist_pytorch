{
  "nbformat": 4,
  "nbformat_minor": 0,
  "metadata": {
    "accelerator": "GPU",
    "colab": {
      "name": "Infogan_mnist",
      "provenance": [],
      "collapsed_sections": [],
      "machine_shape": "hm",
      "include_colab_link": true
    },
    "kernelspec": {
      "display_name": "Python 3",
      "name": "python3"
    }
  },
  "cells": [
    {
      "cell_type": "markdown",
      "metadata": {
        "id": "view-in-github",
        "colab_type": "text"
      },
      "source": [
        "<a href=\"https://colab.research.google.com/github/Gourdji19/Infogan_Mnist_pytorch/blob/main/Infogan_mnist.ipynb\" target=\"_parent\"><img src=\"https://colab.research.google.com/assets/colab-badge.svg\" alt=\"Open In Colab\"/></a>"
      ]
    },
    {
      "cell_type": "code",
      "metadata": {
        "colab": {
          "base_uri": "https://localhost:8080/"
        },
        "id": "pJbYXou6chZf",
        "outputId": "438414dd-5902-4d08-a6bb-571becc8ca56"
      },
      "source": [
        "!nvidia-smi"
      ],
      "execution_count": 22,
      "outputs": [
        {
          "output_type": "stream",
          "text": [
            "Thu May  6 21:04:06 2021       \n",
            "+-----------------------------------------------------------------------------+\n",
            "| NVIDIA-SMI 465.19.01    Driver Version: 460.32.03    CUDA Version: 11.2     |\n",
            "|-------------------------------+----------------------+----------------------+\n",
            "| GPU  Name        Persistence-M| Bus-Id        Disp.A | Volatile Uncorr. ECC |\n",
            "| Fan  Temp  Perf  Pwr:Usage/Cap|         Memory-Usage | GPU-Util  Compute M. |\n",
            "|                               |                      |               MIG M. |\n",
            "|===============================+======================+======================|\n",
            "|   0  Tesla T4            Off  | 00000000:00:04.0 Off |                    0 |\n",
            "| N/A   43C    P0    27W /  70W |   1514MiB / 15109MiB |      0%      Default |\n",
            "|                               |                      |                  N/A |\n",
            "+-------------------------------+----------------------+----------------------+\n",
            "                                                                               \n",
            "+-----------------------------------------------------------------------------+\n",
            "| Processes:                                                                  |\n",
            "|  GPU   GI   CI        PID   Type   Process name                  GPU Memory |\n",
            "|        ID   ID                                                   Usage      |\n",
            "|=============================================================================|\n",
            "+-----------------------------------------------------------------------------+\n"
          ],
          "name": "stdout"
        }
      ]
    },
    {
      "cell_type": "code",
      "metadata": {
        "id": "Mq_UsvG-wVtz",
        "colab": {
          "base_uri": "https://localhost:8080/"
        },
        "outputId": "70cf3859-8a01-43f5-9f51-761736afb097"
      },
      "source": [
        "import sys\n",
        "!{sys.executable} -m pip install easydict"
      ],
      "execution_count": 23,
      "outputs": [
        {
          "output_type": "stream",
          "text": [
            "Requirement already satisfied: easydict in /usr/local/lib/python3.7/dist-packages (1.9)\n"
          ],
          "name": "stdout"
        }
      ]
    },
    {
      "cell_type": "code",
      "metadata": {
        "id": "8-88uF4jwYAm",
        "colab": {
          "base_uri": "https://localhost:8080/"
        },
        "outputId": "60925fff-a66d-4e46-f269-6c401c2702af"
      },
      "source": [
        "!{sys.executable} -m pip install ipywidgets"
      ],
      "execution_count": 24,
      "outputs": [
        {
          "output_type": "stream",
          "text": [
            "Requirement already satisfied: ipywidgets in /usr/local/lib/python3.7/dist-packages (7.6.3)\n",
            "Requirement already satisfied: jupyterlab-widgets>=1.0.0; python_version >= \"3.6\" in /usr/local/lib/python3.7/dist-packages (from ipywidgets) (1.0.0)\n",
            "Requirement already satisfied: nbformat>=4.2.0 in /usr/local/lib/python3.7/dist-packages (from ipywidgets) (5.1.3)\n",
            "Requirement already satisfied: ipython>=4.0.0; python_version >= \"3.3\" in /usr/local/lib/python3.7/dist-packages (from ipywidgets) (5.5.0)\n",
            "Requirement already satisfied: traitlets>=4.3.1 in /usr/local/lib/python3.7/dist-packages (from ipywidgets) (5.0.5)\n",
            "Requirement already satisfied: widgetsnbextension~=3.5.0 in /usr/local/lib/python3.7/dist-packages (from ipywidgets) (3.5.1)\n",
            "Requirement already satisfied: ipykernel>=4.5.1 in /usr/local/lib/python3.7/dist-packages (from ipywidgets) (4.10.1)\n",
            "Requirement already satisfied: jsonschema!=2.5.0,>=2.4 in /usr/local/lib/python3.7/dist-packages (from nbformat>=4.2.0->ipywidgets) (2.6.0)\n",
            "Requirement already satisfied: ipython-genutils in /usr/local/lib/python3.7/dist-packages (from nbformat>=4.2.0->ipywidgets) (0.2.0)\n",
            "Requirement already satisfied: jupyter-core in /usr/local/lib/python3.7/dist-packages (from nbformat>=4.2.0->ipywidgets) (4.7.1)\n",
            "Requirement already satisfied: pexpect; sys_platform != \"win32\" in /usr/local/lib/python3.7/dist-packages (from ipython>=4.0.0; python_version >= \"3.3\"->ipywidgets) (4.8.0)\n",
            "Requirement already satisfied: pygments in /usr/local/lib/python3.7/dist-packages (from ipython>=4.0.0; python_version >= \"3.3\"->ipywidgets) (2.6.1)\n",
            "Requirement already satisfied: setuptools>=18.5 in /usr/local/lib/python3.7/dist-packages (from ipython>=4.0.0; python_version >= \"3.3\"->ipywidgets) (56.0.0)\n",
            "Requirement already satisfied: pickleshare in /usr/local/lib/python3.7/dist-packages (from ipython>=4.0.0; python_version >= \"3.3\"->ipywidgets) (0.7.5)\n",
            "Requirement already satisfied: decorator in /usr/local/lib/python3.7/dist-packages (from ipython>=4.0.0; python_version >= \"3.3\"->ipywidgets) (4.4.2)\n",
            "Requirement already satisfied: simplegeneric>0.8 in /usr/local/lib/python3.7/dist-packages (from ipython>=4.0.0; python_version >= \"3.3\"->ipywidgets) (0.8.1)\n",
            "Requirement already satisfied: prompt-toolkit<2.0.0,>=1.0.4 in /usr/local/lib/python3.7/dist-packages (from ipython>=4.0.0; python_version >= \"3.3\"->ipywidgets) (1.0.18)\n",
            "Requirement already satisfied: notebook>=4.4.1 in /usr/local/lib/python3.7/dist-packages (from widgetsnbextension~=3.5.0->ipywidgets) (5.3.1)\n",
            "Requirement already satisfied: tornado>=4.0 in /usr/local/lib/python3.7/dist-packages (from ipykernel>=4.5.1->ipywidgets) (5.1.1)\n",
            "Requirement already satisfied: jupyter-client in /usr/local/lib/python3.7/dist-packages (from ipykernel>=4.5.1->ipywidgets) (5.3.5)\n",
            "Requirement already satisfied: ptyprocess>=0.5 in /usr/local/lib/python3.7/dist-packages (from pexpect; sys_platform != \"win32\"->ipython>=4.0.0; python_version >= \"3.3\"->ipywidgets) (0.7.0)\n",
            "Requirement already satisfied: wcwidth in /usr/local/lib/python3.7/dist-packages (from prompt-toolkit<2.0.0,>=1.0.4->ipython>=4.0.0; python_version >= \"3.3\"->ipywidgets) (0.2.5)\n",
            "Requirement already satisfied: six>=1.9.0 in /usr/local/lib/python3.7/dist-packages (from prompt-toolkit<2.0.0,>=1.0.4->ipython>=4.0.0; python_version >= \"3.3\"->ipywidgets) (1.15.0)\n",
            "Requirement already satisfied: Send2Trash in /usr/local/lib/python3.7/dist-packages (from notebook>=4.4.1->widgetsnbextension~=3.5.0->ipywidgets) (1.5.0)\n",
            "Requirement already satisfied: terminado>=0.8.1 in /usr/local/lib/python3.7/dist-packages (from notebook>=4.4.1->widgetsnbextension~=3.5.0->ipywidgets) (0.9.4)\n",
            "Requirement already satisfied: nbconvert in /usr/local/lib/python3.7/dist-packages (from notebook>=4.4.1->widgetsnbextension~=3.5.0->ipywidgets) (5.6.1)\n",
            "Requirement already satisfied: jinja2 in /usr/local/lib/python3.7/dist-packages (from notebook>=4.4.1->widgetsnbextension~=3.5.0->ipywidgets) (2.11.3)\n",
            "Requirement already satisfied: pyzmq>=13 in /usr/local/lib/python3.7/dist-packages (from jupyter-client->ipykernel>=4.5.1->ipywidgets) (22.0.3)\n",
            "Requirement already satisfied: python-dateutil>=2.1 in /usr/local/lib/python3.7/dist-packages (from jupyter-client->ipykernel>=4.5.1->ipywidgets) (2.8.1)\n",
            "Requirement already satisfied: bleach in /usr/local/lib/python3.7/dist-packages (from nbconvert->notebook>=4.4.1->widgetsnbextension~=3.5.0->ipywidgets) (3.3.0)\n",
            "Requirement already satisfied: testpath in /usr/local/lib/python3.7/dist-packages (from nbconvert->notebook>=4.4.1->widgetsnbextension~=3.5.0->ipywidgets) (0.4.4)\n",
            "Requirement already satisfied: mistune<2,>=0.8.1 in /usr/local/lib/python3.7/dist-packages (from nbconvert->notebook>=4.4.1->widgetsnbextension~=3.5.0->ipywidgets) (0.8.4)\n",
            "Requirement already satisfied: entrypoints>=0.2.2 in /usr/local/lib/python3.7/dist-packages (from nbconvert->notebook>=4.4.1->widgetsnbextension~=3.5.0->ipywidgets) (0.3)\n",
            "Requirement already satisfied: pandocfilters>=1.4.1 in /usr/local/lib/python3.7/dist-packages (from nbconvert->notebook>=4.4.1->widgetsnbextension~=3.5.0->ipywidgets) (1.4.3)\n",
            "Requirement already satisfied: defusedxml in /usr/local/lib/python3.7/dist-packages (from nbconvert->notebook>=4.4.1->widgetsnbextension~=3.5.0->ipywidgets) (0.7.1)\n",
            "Requirement already satisfied: MarkupSafe>=0.23 in /usr/local/lib/python3.7/dist-packages (from jinja2->notebook>=4.4.1->widgetsnbextension~=3.5.0->ipywidgets) (1.1.1)\n",
            "Requirement already satisfied: webencodings in /usr/local/lib/python3.7/dist-packages (from bleach->nbconvert->notebook>=4.4.1->widgetsnbextension~=3.5.0->ipywidgets) (0.5.1)\n",
            "Requirement already satisfied: packaging in /usr/local/lib/python3.7/dist-packages (from bleach->nbconvert->notebook>=4.4.1->widgetsnbextension~=3.5.0->ipywidgets) (20.9)\n",
            "Requirement already satisfied: pyparsing>=2.0.2 in /usr/local/lib/python3.7/dist-packages (from packaging->bleach->nbconvert->notebook>=4.4.1->widgetsnbextension~=3.5.0->ipywidgets) (2.4.7)\n"
          ],
          "name": "stdout"
        }
      ]
    },
    {
      "cell_type": "code",
      "metadata": {
        "id": "FMW0y66rweWe",
        "colab": {
          "base_uri": "https://localhost:8080/"
        },
        "outputId": "385472a9-8b93-4d22-f0cb-1441d674c70b"
      },
      "source": [
        "!{sys.executable} -m pip install widgetsnbextension"
      ],
      "execution_count": 25,
      "outputs": [
        {
          "output_type": "stream",
          "text": [
            "Requirement already satisfied: widgetsnbextension in /usr/local/lib/python3.7/dist-packages (3.5.1)\n",
            "Requirement already satisfied: notebook>=4.4.1 in /usr/local/lib/python3.7/dist-packages (from widgetsnbextension) (5.3.1)\n",
            "Requirement already satisfied: jinja2 in /usr/local/lib/python3.7/dist-packages (from notebook>=4.4.1->widgetsnbextension) (2.11.3)\n",
            "Requirement already satisfied: jupyter-core>=4.4.0 in /usr/local/lib/python3.7/dist-packages (from notebook>=4.4.1->widgetsnbextension) (4.7.1)\n",
            "Requirement already satisfied: ipython-genutils in /usr/local/lib/python3.7/dist-packages (from notebook>=4.4.1->widgetsnbextension) (0.2.0)\n",
            "Requirement already satisfied: nbconvert in /usr/local/lib/python3.7/dist-packages (from notebook>=4.4.1->widgetsnbextension) (5.6.1)\n",
            "Requirement already satisfied: terminado>=0.8.1 in /usr/local/lib/python3.7/dist-packages (from notebook>=4.4.1->widgetsnbextension) (0.9.4)\n",
            "Requirement already satisfied: tornado>=4 in /usr/local/lib/python3.7/dist-packages (from notebook>=4.4.1->widgetsnbextension) (5.1.1)\n",
            "Requirement already satisfied: traitlets>=4.2.1 in /usr/local/lib/python3.7/dist-packages (from notebook>=4.4.1->widgetsnbextension) (5.0.5)\n",
            "Requirement already satisfied: jupyter-client>=5.2.0 in /usr/local/lib/python3.7/dist-packages (from notebook>=4.4.1->widgetsnbextension) (5.3.5)\n",
            "Requirement already satisfied: nbformat in /usr/local/lib/python3.7/dist-packages (from notebook>=4.4.1->widgetsnbextension) (5.1.3)\n",
            "Requirement already satisfied: Send2Trash in /usr/local/lib/python3.7/dist-packages (from notebook>=4.4.1->widgetsnbextension) (1.5.0)\n",
            "Requirement already satisfied: ipykernel in /usr/local/lib/python3.7/dist-packages (from notebook>=4.4.1->widgetsnbextension) (4.10.1)\n",
            "Requirement already satisfied: MarkupSafe>=0.23 in /usr/local/lib/python3.7/dist-packages (from jinja2->notebook>=4.4.1->widgetsnbextension) (1.1.1)\n",
            "Requirement already satisfied: pygments in /usr/local/lib/python3.7/dist-packages (from nbconvert->notebook>=4.4.1->widgetsnbextension) (2.6.1)\n",
            "Requirement already satisfied: bleach in /usr/local/lib/python3.7/dist-packages (from nbconvert->notebook>=4.4.1->widgetsnbextension) (3.3.0)\n",
            "Requirement already satisfied: pandocfilters>=1.4.1 in /usr/local/lib/python3.7/dist-packages (from nbconvert->notebook>=4.4.1->widgetsnbextension) (1.4.3)\n",
            "Requirement already satisfied: mistune<2,>=0.8.1 in /usr/local/lib/python3.7/dist-packages (from nbconvert->notebook>=4.4.1->widgetsnbextension) (0.8.4)\n",
            "Requirement already satisfied: entrypoints>=0.2.2 in /usr/local/lib/python3.7/dist-packages (from nbconvert->notebook>=4.4.1->widgetsnbextension) (0.3)\n",
            "Requirement already satisfied: testpath in /usr/local/lib/python3.7/dist-packages (from nbconvert->notebook>=4.4.1->widgetsnbextension) (0.4.4)\n",
            "Requirement already satisfied: defusedxml in /usr/local/lib/python3.7/dist-packages (from nbconvert->notebook>=4.4.1->widgetsnbextension) (0.7.1)\n",
            "Requirement already satisfied: ptyprocess; os_name != \"nt\" in /usr/local/lib/python3.7/dist-packages (from terminado>=0.8.1->notebook>=4.4.1->widgetsnbextension) (0.7.0)\n",
            "Requirement already satisfied: python-dateutil>=2.1 in /usr/local/lib/python3.7/dist-packages (from jupyter-client>=5.2.0->notebook>=4.4.1->widgetsnbextension) (2.8.1)\n",
            "Requirement already satisfied: pyzmq>=13 in /usr/local/lib/python3.7/dist-packages (from jupyter-client>=5.2.0->notebook>=4.4.1->widgetsnbextension) (22.0.3)\n",
            "Requirement already satisfied: jsonschema!=2.5.0,>=2.4 in /usr/local/lib/python3.7/dist-packages (from nbformat->notebook>=4.4.1->widgetsnbextension) (2.6.0)\n",
            "Requirement already satisfied: ipython>=4.0.0 in /usr/local/lib/python3.7/dist-packages (from ipykernel->notebook>=4.4.1->widgetsnbextension) (5.5.0)\n",
            "Requirement already satisfied: packaging in /usr/local/lib/python3.7/dist-packages (from bleach->nbconvert->notebook>=4.4.1->widgetsnbextension) (20.9)\n",
            "Requirement already satisfied: six>=1.9.0 in /usr/local/lib/python3.7/dist-packages (from bleach->nbconvert->notebook>=4.4.1->widgetsnbextension) (1.15.0)\n",
            "Requirement already satisfied: webencodings in /usr/local/lib/python3.7/dist-packages (from bleach->nbconvert->notebook>=4.4.1->widgetsnbextension) (0.5.1)\n",
            "Requirement already satisfied: pickleshare in /usr/local/lib/python3.7/dist-packages (from ipython>=4.0.0->ipykernel->notebook>=4.4.1->widgetsnbextension) (0.7.5)\n",
            "Requirement already satisfied: simplegeneric>0.8 in /usr/local/lib/python3.7/dist-packages (from ipython>=4.0.0->ipykernel->notebook>=4.4.1->widgetsnbextension) (0.8.1)\n",
            "Requirement already satisfied: prompt-toolkit<2.0.0,>=1.0.4 in /usr/local/lib/python3.7/dist-packages (from ipython>=4.0.0->ipykernel->notebook>=4.4.1->widgetsnbextension) (1.0.18)\n",
            "Requirement already satisfied: pexpect; sys_platform != \"win32\" in /usr/local/lib/python3.7/dist-packages (from ipython>=4.0.0->ipykernel->notebook>=4.4.1->widgetsnbextension) (4.8.0)\n",
            "Requirement already satisfied: decorator in /usr/local/lib/python3.7/dist-packages (from ipython>=4.0.0->ipykernel->notebook>=4.4.1->widgetsnbextension) (4.4.2)\n",
            "Requirement already satisfied: setuptools>=18.5 in /usr/local/lib/python3.7/dist-packages (from ipython>=4.0.0->ipykernel->notebook>=4.4.1->widgetsnbextension) (56.0.0)\n",
            "Requirement already satisfied: pyparsing>=2.0.2 in /usr/local/lib/python3.7/dist-packages (from packaging->bleach->nbconvert->notebook>=4.4.1->widgetsnbextension) (2.4.7)\n",
            "Requirement already satisfied: wcwidth in /usr/local/lib/python3.7/dist-packages (from prompt-toolkit<2.0.0,>=1.0.4->ipython>=4.0.0->ipykernel->notebook>=4.4.1->widgetsnbextension) (0.2.5)\n"
          ],
          "name": "stdout"
        }
      ]
    },
    {
      "cell_type": "code",
      "metadata": {
        "id": "jqyUMjuHwdTX"
      },
      "source": [
        "import os\n",
        "import argparse\n",
        "import warnings\n",
        "import numpy as np\n",
        "import matplotlib.pyplot as plt\n",
        "import torch\n",
        "from torch import nn\n",
        "import torchvision.transforms as transforms\n",
        "from torch.utils.data import DataLoader\n",
        "from torchvision.datasets import MNIST\n",
        "from tqdm import tqdm\n",
        "import easydict"
      ],
      "execution_count": 26,
      "outputs": []
    },
    {
      "cell_type": "code",
      "metadata": {
        "id": "4mQRsxD1wh8T"
      },
      "source": [
        "class Generator(nn.Module):\n",
        "    \"\"\"Generator structure from InfoGAN paper\"\"\"\n",
        "    def __init__(self,latent_dim):\n",
        "        super(Generator, self).__init__()\n",
        "        self.latent_dim = latent_dim\n",
        "        self.fc1 = nn.Sequential(\n",
        "            nn.Linear(self.latent_dim,1024),\n",
        "            nn.BatchNorm1d(1024),\n",
        "            nn.ReLU(),\n",
        "        )\n",
        "        self.fc2 = nn.Sequential(\n",
        "            nn.Linear(1024,7*7*128),\n",
        "            nn.BatchNorm1d(7*7*128),\n",
        "            nn.ReLU(),\n",
        "        )\n",
        "        self.upconv1 = nn.Sequential(\n",
        "            nn.ConvTranspose2d(128, 64, kernel_size=4,stride=2,padding=1),\n",
        "            nn.BatchNorm2d(64),\n",
        "            nn.ReLU(),\n",
        "        )\n",
        "        self.upconv2 = nn.Sequential(\n",
        "            nn.ConvTranspose2d(64, 1, kernel_size=4,stride=2,padding=1),\n",
        "            nn.Sigmoid()\n",
        "        )\n",
        "    def forward(self,x):\n",
        "        x = self.fc1(x)\n",
        "        x = self.fc2(x)\n",
        "        x = x.view(x.shape[0],128,7,7)\n",
        "        x = self.upconv1(x)\n",
        "        x = self.upconv2(x)\n",
        "        return x"
      ],
      "execution_count": 27,
      "outputs": []
    },
    {
      "cell_type": "code",
      "metadata": {
        "id": "Stvao9EMwlJw"
      },
      "source": [
        "class Discriminator(nn.Module):\n",
        "    \"\"\"Discriminator structure from InfoGAN paper\"\"\"\n",
        "    def __init__(self):\n",
        "        super(Discriminator, self).__init__()\n",
        "        self.conv1 = nn.Sequential(\n",
        "            nn.Conv2d(1, 64, kernel_size=4, stride=2),\n",
        "            nn.LeakyReLU(0.1),\n",
        "        )\n",
        "        self.conv2 = nn.Sequential(\n",
        "            nn.Conv2d(64, 128, kernel_size=4, stride=2),\n",
        "            nn.BatchNorm2d(128),\n",
        "            nn.LeakyReLU(0.1),\n",
        "        )\n",
        "        self.fc1 = nn.Sequential(\n",
        "            nn.Linear(128*5*5,1024),\n",
        "            nn.BatchNorm1d(1024),\n",
        "            nn.LeakyReLU(0.1),\n",
        "        )\n",
        "        self.fc2 = nn.Sequential(\n",
        "            nn.Linear(1024,1),\n",
        "            nn.Sigmoid()\n",
        "        )\n",
        "    def forward(self,x):\n",
        "        x = self.conv1(x)\n",
        "        x = self.conv2(x)\n",
        "        x = x.view(x.shape[0],128*5*5)\n",
        "        fe_out = self.fc1(x)\n",
        "        y = self.fc2(fe_out)\n",
        "        return y,fe_out"
      ],
      "execution_count": 28,
      "outputs": []
    },
    {
      "cell_type": "code",
      "metadata": {
        "id": "6YhWeGmPwnpf"
      },
      "source": [
        "class Qnet_Categorical(nn.Module):\n",
        "    \"\"\"Q-part of network from InfoGAN paper\"\"\"\n",
        "    def __init__(self,n_cat):\n",
        "        super(Qnet_Categorical, self).__init__()\n",
        "        self.n_cat = n_cat\n",
        "        self.fcQ = nn.Sequential(\n",
        "            nn.Linear(1024,128),\n",
        "            nn.BatchNorm1d(128),\n",
        "            nn.LeakyReLU(0.1),\n",
        "            nn.Linear(128,self.n_cat)\n",
        "        )\n",
        "    def forward(self,x):\n",
        "        y_logits = self.fcQ(x)\n",
        "        return y_logits"
      ],
      "execution_count": 29,
      "outputs": []
    },
    {
      "cell_type": "code",
      "metadata": {
        "id": "-2tHSy7Twpfi"
      },
      "source": [
        "class InfoGAN_MNIST:\n",
        "    def __init__(self,args,n_latent,n_cat):\n",
        "        self.batch_size = args.batch_size\n",
        "        self.num_epochs = args.epochs\n",
        "        self.device = torch.device(\"cuda:0\" if torch.cuda.is_available() else \"cpu\")\n",
        "        self.n_noise = n_latent\n",
        "        self.n_cat = n_cat\n",
        "        self.n_latent = n_latent+n_cat\n",
        "        self.cat_prob = torch.ones(n_cat)*0.1\n",
        "        self.generator = Generator(self.n_latent).to(self.device)\n",
        "        self.discriminator = Discriminator().to(self.device)\n",
        "        self.qnet = Qnet_Categorical(self.n_cat).to(self.device)\n",
        "        self.dset_train = MNIST(\"./\", train=True, download=True, transform=transforms.ToTensor())\n",
        "        self.train_loader = DataLoader(self.dset_train, batch_size=self.batch_size,shuffle=True,\n",
        "                                    pin_memory=torch.cuda.is_available(),drop_last=True)\n",
        "        self.dset_test  = MNIST(\"./\", train=False, download=True, transform=transforms.ToTensor())\n",
        "        self.test_loader  = DataLoader(self.dset_test, batch_size=self.batch_size, shuffle=False,\n",
        "                                    pin_memory=torch.cuda.is_available(),drop_last=True)\n",
        "    def train(self):\n",
        "        self.generator.train()\n",
        "        self.discriminator.train()\n",
        "        self.qnet.train()\n",
        "\n",
        "        K = 3\n",
        "        lambda_cat = 1\n",
        "        bce_loss = nn.BCELoss()\n",
        "        CE_loss = nn.CrossEntropyLoss()\n",
        "        optimG = torch.optim.Adam(list(self.generator.parameters())+list(self.qnet.parameters()),lr=1e-3,betas=(0.5, 0.99))\n",
        "        optimD = torch.optim.Adam(self.discriminator.parameters(),lr=2e-4,betas=(0.5, 0.99))\n",
        "\n",
        "        batch_size = self.batch_size\n",
        "        true_label = torch.ones(batch_size, 1).to(self.device)\n",
        "        fake_label = torch.zeros(batch_size, 1).to(self.device)\n",
        "        best_test_acc = 0\n",
        "        loss_d_arr, loss_g_arr = [], []\n",
        "        for epoch in range(self.num_epochs):\n",
        "            with tqdm(total=len(self.train_loader)) as pbar:\n",
        "                pbar.set_description(\"Epoch {}\".format(epoch))\n",
        "                for batch_nr, (img_true, _) in enumerate(self.train_loader):\n",
        "                    optimG.zero_grad()\n",
        "                    optimD.zero_grad()\n",
        "\n",
        "                    noise_vector = torch.randn(batch_size, self.n_noise).to(self.device)\n",
        "                    cat_vector = torch.multinomial(self.cat_prob,batch_size,replacement=True)\n",
        "                    cat_one_hot = torch.zeros(batch_size,self.n_cat)\n",
        "                    cat_one_hot[range(batch_size),cat_vector] = 1\n",
        "                    cat_one_hot = cat_one_hot.to(self.device)\n",
        "\n",
        "                    img_fake_input = torch.cat((noise_vector,cat_one_hot),dim=1)\n",
        "                    img_fake = self.generator(img_fake_input)\n",
        "                    y_fake,_ = self.discriminator(img_fake.detach())\n",
        "                    y_true,_ = self.discriminator(img_true.to(self.device))\n",
        "                    loss_D = bce_loss(y_true, true_label) + bce_loss(y_fake, fake_label)\n",
        "                    loss_d_arr.append(loss_D.cpu().detach().numpy())\n",
        "                    loss_D.backward()\n",
        "                    optimD.step()\n",
        "\n",
        "                    y_fake,fe_out = self.discriminator(img_fake)\n",
        "                    y_cat_logits = self.qnet(fe_out)\n",
        "                    cat_target = cat_vector.long().to(self.device)\n",
        "                    loss_Q = lambda_cat*CE_loss(y_cat_logits,cat_target)\n",
        "                    loss_G = bce_loss(y_fake, true_label) + loss_Q\n",
        "                    loss_G.backward(retain_graph=True)\n",
        "                    loss_g_arr.append(loss_G.cpu().detach().numpy())\n",
        "                    optimG.step()\n",
        "\n",
        "                    pbar.update()\n",
        "\n",
        "            test_acc = self.eval()\n",
        "            self.generator.train()\n",
        "            self.discriminator.train()\n",
        "            self.qnet.train()\n",
        "\n",
        "            if test_acc>best_test_acc:\n",
        "                torch.save(self.generator.state_dict(),\"generator_weights.pth\")\n",
        "                torch.save(self.discriminator.state_dict(),\"discriminator_weights.pth\")\n",
        "                torch.save(self.qnet.state_dict(),\"qnet_weights.pth\")\n",
        "                best_test_acc = test_acc\n",
        "        return loss_d_arr, loss_g_arr\n",
        "      \n",
        "    def eval(self):\n",
        "        self.generator.eval()\n",
        "        self.discriminator.eval()\n",
        "        self.qnet.eval()\n",
        "        \n",
        "\n",
        "        exemplar_idx = [68, 6, 76, 7, 20, 259, 66, 263, 265, 264]\n",
        "        exemplars = []\n",
        "        for idx in exemplar_idx:\n",
        "            img,img_lbl = self.dset_train.__getitem__(idx)\n",
        "            exemplars.append(img)\n",
        "        exemplar_batch = torch.cat(exemplars,dim=0).unsqueeze(1).to(self.device)\n",
        "\n",
        "        with torch.no_grad():\n",
        "            _,fe_out = self.discriminator(exemplar_batch)\n",
        "            y_cat = self.qnet(fe_out)\n",
        "        exemplar_cat = torch.argmax(torch.softmax(y_cat,dim=1),dim=1)\n",
        "        exemplar_cat = exemplar_cat.cpu().numpy()\n",
        "        cat2class = {cat:cls for cls,cat in enumerate(exemplar_cat)}\n",
        "        if len(cat2class.keys())!=10:\n",
        "            warn_str = \"\"\"Only {}/10 classes identified from exemplars. Some classes might be mixed.\n",
        "            Consider retraining the network if this is the final iteration.\"\"\".format(len(cat2class.keys()))\n",
        "            warnings.warn(warn_str)\n",
        "\n",
        "        running_sum = 0\n",
        "        with tqdm(total=len(self.test_loader)) as pbar:\n",
        "            pbar.set_description(\"Test loss\")\n",
        "            for (test_imgs,test_labels) in self.test_loader:\n",
        "                with torch.no_grad():\n",
        "                    _,fe_out = self.discriminator(test_imgs.to(self.device))\n",
        "                    y_cat = self.qnet(fe_out)\n",
        "                test_cat = torch.argmax(torch.softmax(y_cat,dim=1),dim=1)\n",
        "                test_cat = test_cat.cpu().numpy()\n",
        "                test_pred_class = np.array([cat2class[cat] if cat in cat2class.keys() else np.nan for cat in test_cat])\n",
        "                running_sum+=sum(test_pred_class==test_labels.numpy())\n",
        "                pbar.update()\n",
        "            test_accuracy = running_sum/len(self.dset_test)\n",
        "            pbar.set_postfix({'test_acc':test_accuracy})\n",
        "        return test_accuracy"
      ],
      "execution_count": 30,
      "outputs": []
    },
    {
      "cell_type": "code",
      "metadata": {
        "id": "sQF1qE9vws0f",
        "colab": {
          "base_uri": "https://localhost:8080/"
        },
        "outputId": "7784abe5-9c2d-4ccc-ff80-768056062a00"
      },
      "source": [
        "args = easydict.EasyDict({\n",
        "    \"batch_size\": 64,\n",
        "    \"epochs\": 10\n",
        "    })\n",
        "info_gan = InfoGAN_MNIST(args,n_latent=64,n_cat=10)\n",
        "loss_d_arr, loss_g_arr = info_gan.train()\n"
      ],
      "execution_count": null,
      "outputs": [
        {
          "output_type": "stream",
          "text": [
            "Epoch 0: 100%|██████████| 937/937 [00:14<00:00, 63.60it/s]\n",
            "/usr/local/lib/python3.7/dist-packages/ipykernel_launcher.py:103: UserWarning: Only 9/10 classes identified from exemplars. Some classes might be mixed.\n",
            "            Consider retraining the network if this is the final iteration.\n",
            "Test loss: 100%|██████████| 156/156 [00:00<00:00, 208.82it/s, test_acc=0.416]\n",
            "Epoch 1: 100%|██████████| 937/937 [00:14<00:00, 64.58it/s]\n",
            "Test loss: 100%|██████████| 156/156 [00:00<00:00, 200.55it/s, test_acc=0.647]\n",
            "Epoch 2: 100%|██████████| 937/937 [00:14<00:00, 63.91it/s]\n",
            "Test loss: 100%|██████████| 156/156 [00:00<00:00, 202.07it/s, test_acc=0.727]\n",
            "Epoch 3: 100%|██████████| 937/937 [00:14<00:00, 63.76it/s]\n",
            "Test loss: 100%|██████████| 156/156 [00:00<00:00, 203.13it/s, test_acc=0.77]\n",
            "Epoch 4: 100%|██████████| 937/937 [00:14<00:00, 63.99it/s]\n",
            "Test loss: 100%|██████████| 156/156 [00:00<00:00, 204.34it/s, test_acc=0.778]\n",
            "Epoch 5:  60%|██████    | 566/937 [00:08<00:05, 62.61it/s]"
          ],
          "name": "stderr"
        }
      ]
    },
    {
      "cell_type": "code",
      "metadata": {
        "id": "6OvuF1gXwupR"
      },
      "source": [
        "fig, ax = plt.subplots(figsize=(8, 6))\n",
        "ax.plot(range(len(loss_g_arr)), loss_g_arr, label=\"Generator loss\")\n",
        "ax.plot(range(len(loss_d_arr)), loss_d_arr, label=\"Discriminator loss\")\n",
        "ax.set_xlabel('# step', fontsize=19)\n",
        "ax.set_ylabel('Loss', fontsize=19)\n",
        "plt.legend(fontsize=12)"
      ],
      "execution_count": null,
      "outputs": []
    },
    {
      "cell_type": "code",
      "metadata": {
        "id": "02wunEq58JGQ"
      },
      "source": [
        "# generate input for generator (since we need to do some experiments with it)\n",
        "device = torch.device(\"cuda:0\" if torch.cuda.is_available() else \"cpu\")\n",
        "batch_size = 64\n",
        "n_cat = 10\n",
        "cat_prob = torch.ones(n_cat)*0.1\n",
        "\n",
        "noise_vector = torch.randn(batch_size, 64).to(device)\n",
        "cat_vector = torch.multinomial(cat_prob, batch_size,replacement=True)\n",
        "cat_one_hot = torch.zeros(batch_size, n_cat)\n",
        "cat_one_hot[range(batch_size),cat_vector] = 1\n",
        "cat_one_hot = cat_one_hot.to(device)\n",
        "input_ = torch.cat((noise_vector,cat_one_hot),dim=1)\n",
        "print(input_.cpu().numpy().shape)"
      ],
      "execution_count": null,
      "outputs": []
    },
    {
      "cell_type": "code",
      "metadata": {
        "id": "uHxs3oLc1wwG"
      },
      "source": [
        "info_index = 64\n",
        "img_index = 20\n",
        "img_fakes = []\n",
        "with torch.no_grad():\n",
        "  for i in range(20):\n",
        "    input_2 = input_\n",
        "    input_2[:, info_index + i] = 1\n",
        "    img_fakes.append(info_gan.generator(input_2).cpu().numpy()[img_index][0])"
      ],
      "execution_count": null,
      "outputs": []
    },
    {
      "cell_type": "code",
      "metadata": {
        "id": "2gFR76n34oFL"
      },
      "source": [
        "plt.imshow(img_fakes[0])"
      ],
      "execution_count": null,
      "outputs": []
    },
    {
      "cell_type": "code",
      "metadata": {
        "id": "QNqd4KoW7mqk"
      },
      "source": [
        "plt.imshow(img_fakes[2])"
      ],
      "execution_count": null,
      "outputs": []
    },
    {
      "cell_type": "code",
      "metadata": {
        "id": "eSa-9CL_9VSd"
      },
      "source": [
        "input_[0, 64:]"
      ],
      "execution_count": null,
      "outputs": []
    },
    {
      "cell_type": "code",
      "metadata": {
        "id": "r6EliUnv_LrY"
      },
      "source": [
        "input_[0, 0:20]"
      ],
      "execution_count": null,
      "outputs": []
    },
    {
      "cell_type": "code",
      "metadata": {
        "id": "OrsaCK2x_Qoi"
      },
      "source": [
        ""
      ],
      "execution_count": null,
      "outputs": []
    }
  ]
}